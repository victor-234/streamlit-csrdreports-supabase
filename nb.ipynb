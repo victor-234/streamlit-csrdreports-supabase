{
 "cells": [
  {
   "cell_type": "code",
   "execution_count": 111,
   "metadata": {},
   "outputs": [],
   "source": [
    "import os\n",
    "import pandas as pd\n",
    "from mistralai import Mistral\n",
    "from supabase import create_client, Client\n",
    "import pymupdf\n",
    "from tqdm import tqdm\n",
    "from io import BufferedReader"
   ]
  },
  {
   "cell_type": "code",
   "execution_count": 115,
   "metadata": {},
   "outputs": [],
   "source": [
    "# For storing the stuff\n",
    "supabase_url: str = os.environ.get(\"SUPABASE_URL\")\n",
    "supabase_key: str = os.environ.get(\"SUPABASE_KEY\")\n",
    "supabase: Client = create_client(supabase_url, supabase_key)\n",
    "\n",
    "auth_response = supabase.auth.sign_in_with_password({\"email\": \"mister.x.vic@googlemail.com\", \"password\": \"FG23xi_i!\"})"
   ]
  },
  {
   "cell_type": "code",
   "execution_count": 121,
   "metadata": {},
   "outputs": [],
   "source": [
    "# To read the text and create embedding\n",
    "mistral_api_key = os.environ[\"MISTRAL_API_KEY\"]\n",
    "client = Mistral(api_key=mistral_api_key)"
   ]
  },
  {
   "cell_type": "markdown",
   "metadata": {},
   "source": [
    "## Upsert companies"
   ]
  },
  {
   "cell_type": "code",
   "execution_count": 53,
   "metadata": {},
   "outputs": [],
   "source": [
    "industry_sector = pd.read_csv(\"sasb-industry-sector.csv\")"
   ]
  },
  {
   "cell_type": "code",
   "execution_count": 52,
   "metadata": {},
   "outputs": [
    {
     "data": {
      "text/html": [
       "<div>\n",
       "<style scoped>\n",
       "    .dataframe tbody tr th:only-of-type {\n",
       "        vertical-align: middle;\n",
       "    }\n",
       "\n",
       "    .dataframe tbody tr th {\n",
       "        vertical-align: top;\n",
       "    }\n",
       "\n",
       "    .dataframe thead th {\n",
       "        text-align: right;\n",
       "    }\n",
       "</style>\n",
       "<table border=\"1\" class=\"dataframe\">\n",
       "  <thead>\n",
       "    <tr style=\"text-align: right;\">\n",
       "      <th></th>\n",
       "      <th>name</th>\n",
       "      <th>isin</th>\n",
       "      <th>country</th>\n",
       "      <th>industry</th>\n",
       "      <th>startPDF</th>\n",
       "      <th>endPDF</th>\n",
       "    </tr>\n",
       "  </thead>\n",
       "  <tbody>\n",
       "    <tr>\n",
       "      <th>0</th>\n",
       "      <td>Netcompany</td>\n",
       "      <td>DK0060952919</td>\n",
       "      <td>Denmark</td>\n",
       "      <td>Internet Media &amp; Services</td>\n",
       "      <td>62.0</td>\n",
       "      <td>154.0</td>\n",
       "    </tr>\n",
       "    <tr>\n",
       "      <th>1</th>\n",
       "      <td>Tryg</td>\n",
       "      <td>DK0060636678</td>\n",
       "      <td>Denmark</td>\n",
       "      <td>Insurance</td>\n",
       "      <td>53.0</td>\n",
       "      <td>131.0</td>\n",
       "    </tr>\n",
       "    <tr>\n",
       "      <th>2</th>\n",
       "      <td>DSV</td>\n",
       "      <td>DK0060079531</td>\n",
       "      <td>Denmark</td>\n",
       "      <td>Air Freight &amp; Logistics</td>\n",
       "      <td>42.0</td>\n",
       "      <td>84.0</td>\n",
       "    </tr>\n",
       "    <tr>\n",
       "      <th>3</th>\n",
       "      <td>Lundbeck</td>\n",
       "      <td>DK0061804697</td>\n",
       "      <td>Denmark</td>\n",
       "      <td>Biotechnology &amp; Pharmaceuticals</td>\n",
       "      <td>59.0</td>\n",
       "      <td>144.0</td>\n",
       "    </tr>\n",
       "    <tr>\n",
       "      <th>4</th>\n",
       "      <td>Vestas</td>\n",
       "      <td>DK0061539921</td>\n",
       "      <td>Denmark</td>\n",
       "      <td>Wind Technology &amp; Project Developers</td>\n",
       "      <td>51.0</td>\n",
       "      <td>132.0</td>\n",
       "    </tr>\n",
       "    <tr>\n",
       "      <th>...</th>\n",
       "      <td>...</td>\n",
       "      <td>...</td>\n",
       "      <td>...</td>\n",
       "      <td>...</td>\n",
       "      <td>...</td>\n",
       "      <td>...</td>\n",
       "    </tr>\n",
       "    <tr>\n",
       "      <th>172</th>\n",
       "      <td>RWE</td>\n",
       "      <td>DE0007037129</td>\n",
       "      <td>Germany</td>\n",
       "      <td>Electric Utilities &amp; Power Generators</td>\n",
       "      <td>74.0</td>\n",
       "      <td>186.0</td>\n",
       "    </tr>\n",
       "    <tr>\n",
       "      <th>173</th>\n",
       "      <td>Triodos Bank</td>\n",
       "      <td>n.a.</td>\n",
       "      <td>Netherlands</td>\n",
       "      <td>Commercial Banks</td>\n",
       "      <td>167.0</td>\n",
       "      <td>327.0</td>\n",
       "    </tr>\n",
       "    <tr>\n",
       "      <th>174</th>\n",
       "      <td>AXA SA</td>\n",
       "      <td>FR0000120628</td>\n",
       "      <td>France</td>\n",
       "      <td>Insurance</td>\n",
       "      <td>129.0</td>\n",
       "      <td>271.0</td>\n",
       "    </tr>\n",
       "    <tr>\n",
       "      <th>175</th>\n",
       "      <td>Teleperformance</td>\n",
       "      <td>FR0000051807</td>\n",
       "      <td>France</td>\n",
       "      <td>Software &amp; IT Services</td>\n",
       "      <td>93.0</td>\n",
       "      <td>204.0</td>\n",
       "    </tr>\n",
       "    <tr>\n",
       "      <th>176</th>\n",
       "      <td>Renault Group</td>\n",
       "      <td>FR0000131906</td>\n",
       "      <td>France</td>\n",
       "      <td>Automobiles</td>\n",
       "      <td>96.0</td>\n",
       "      <td>246.0</td>\n",
       "    </tr>\n",
       "  </tbody>\n",
       "</table>\n",
       "<p>177 rows × 6 columns</p>\n",
       "</div>"
      ],
      "text/plain": [
       "                name          isin      country  \\\n",
       "0         Netcompany  DK0060952919      Denmark   \n",
       "1               Tryg  DK0060636678      Denmark   \n",
       "2                DSV  DK0060079531      Denmark   \n",
       "3           Lundbeck  DK0061804697      Denmark   \n",
       "4             Vestas  DK0061539921      Denmark   \n",
       "..               ...           ...          ...   \n",
       "172              RWE  DE0007037129      Germany   \n",
       "173     Triodos Bank          n.a.  Netherlands   \n",
       "174           AXA SA  FR0000120628       France   \n",
       "175  Teleperformance  FR0000051807       France   \n",
       "176    Renault Group  FR0000131906       France   \n",
       "\n",
       "                                  industry  startPDF  endPDF  \n",
       "0                Internet Media & Services      62.0   154.0  \n",
       "1                                Insurance      53.0   131.0  \n",
       "2                  Air Freight & Logistics      42.0    84.0  \n",
       "3          Biotechnology & Pharmaceuticals      59.0   144.0  \n",
       "4     Wind Technology & Project Developers      51.0   132.0  \n",
       "..                                     ...       ...     ...  \n",
       "172  Electric Utilities & Power Generators      74.0   186.0  \n",
       "173                       Commercial Banks     167.0   327.0  \n",
       "174                              Insurance     129.0   271.0  \n",
       "175                 Software & IT Services      93.0   204.0  \n",
       "176                            Automobiles      96.0   246.0  \n",
       "\n",
       "[177 rows x 6 columns]"
      ]
     },
     "execution_count": 52,
     "metadata": {},
     "output_type": "execute_result"
    }
   ],
   "source": [
    "companies = (\n",
    "    pd.read_csv(\"https://docs.google.com/spreadsheets/d/1Nlyf8Yz_9Fst8rEmQc2IMc-DWLF1fpmBTB7n4FlZwxs/export?format=csv&gid=0\", skiprows=2)\n",
    "    .query(\"verified == 'yes'\")\n",
    "    .rename(columns={\n",
    "        \"company\": \"name\",\n",
    "        \"SASB industry \\n(SICS® Industries)\": \"industry\",\n",
    "        \"start PDF\": \"startPDF\",\n",
    "        \"end PDF\": \"endPDF\",\n",
    "    })\n",
    "    .dropna()\n",
    "    .loc[:, ['name', 'isin', 'country', 'industry', \"startPDF\", \"endPDF\"]]\n",
    ")\n",
    "\n",
    "companies"
   ]
  },
  {
   "cell_type": "code",
   "execution_count": 55,
   "metadata": {},
   "outputs": [
    {
     "name": "stdout",
     "output_type": "stream",
     "text": [
      "data=[{'id': '84f555f7-0dfe-4287-9ebb-4a8510851960', 'name': 'Netcompany', 'isin': 'DK0060952919', 'created_at': '2025-03-20T22:08:02.596329+00:00', 'country': 'Denmark', 'sector': 'Technology & Communications', 'industry': 'Internet Media & Services'}] count=None\n",
      "data=[{'id': 'dfd1ae0e-fdd2-402b-87b7-8269fc136bf1', 'name': 'Tryg', 'isin': 'DK0060636678', 'created_at': '2025-03-20T22:08:02.858821+00:00', 'country': 'Denmark', 'sector': 'Financials', 'industry': 'Insurance'}] count=None\n",
      "data=[{'id': '2697bd05-bcc6-46c6-959f-b28c9f79601d', 'name': 'DSV', 'isin': 'DK0060079531', 'created_at': '2025-03-20T22:08:03.236784+00:00', 'country': 'Denmark', 'sector': 'Transportation', 'industry': 'Air Freight & Logistics'}] count=None\n",
      "data=[{'id': 'c403ab7e-9ab8-4a2d-886f-32f65885cba2', 'name': 'Lundbeck', 'isin': 'DK0061804697', 'created_at': '2025-03-20T22:08:03.606235+00:00', 'country': 'Denmark', 'sector': 'Health Care', 'industry': 'Biotechnology & Pharmaceuticals'}] count=None\n",
      "data=[{'id': 'ef6facde-60b5-49d6-8b51-c500ec0632a0', 'name': 'Vestas', 'isin': 'DK0061539921', 'created_at': '2025-03-20T22:08:03.973406+00:00', 'country': 'Denmark', 'sector': 'Renewable Resources & Alternative Energy', 'industry': 'Wind Technology & Project Developers'}] count=None\n",
      "data=[{'id': '903be492-06e2-438d-95f2-8cbcd051ba4c', 'name': 'Demant', 'isin': 'DK0060738599', 'created_at': '2025-03-20T22:08:04.357411+00:00', 'country': 'Denmark', 'sector': 'Health Care', 'industry': 'Medical Equipment & Supplies'}] count=None\n",
      "data=[{'id': 'fc290456-5841-48cb-9fcb-1f97ab80a7ff', 'name': 'Pandora', 'isin': 'DK0060252690', 'created_at': '2025-03-20T22:08:04.504958+00:00', 'country': 'Denmark', 'sector': 'Consumer Goods', 'industry': 'Apparel, Accessories & Footwear'}] count=None\n",
      "data=[{'id': '61a6ed60-3197-4f33-a1db-98e22db94d64', 'name': 'Novo Nordisk', 'isin': 'DK0062498333', 'created_at': '2025-03-20T22:08:04.862697+00:00', 'country': 'Denmark', 'sector': 'Health Care', 'industry': 'Biotechnology & Pharmaceuticals'}] count=None\n",
      "data=[{'id': '7e8d1e88-af3a-4d3f-b4d8-7438057c62e9', 'name': 'Ringkjøbing Landbobank', 'isin': 'DK0060854669', 'created_at': '2025-03-20T22:08:05.272582+00:00', 'country': 'Denmark', 'sector': 'Financials', 'industry': 'Commercial Banks'}] count=None\n",
      "data=[{'id': '7d8962fb-2b0d-4b68-bd09-78b1a5f6e580', 'name': 'Nykredit Group', 'isin': 'DK000954829', 'created_at': '2025-03-20T22:08:05.747213+00:00', 'country': 'Denmark', 'sector': 'Financials', 'industry': 'Commercial Banks'}] count=None\n",
      "data=[{'id': '518e051c-bfe5-49bb-b157-8d614a23dfaf', 'name': 'Spar Nord Bank', 'isin': 'DK0060036564', 'created_at': '2025-03-20T22:08:05.953314+00:00', 'country': 'Denmark', 'sector': 'Financials', 'industry': 'Commercial Banks'}] count=None\n",
      "data=[{'id': '0d448290-5219-43ab-a63c-654acc7fc81b', 'name': 'TomTom', 'isin': 'NL0013332471', 'created_at': '2025-03-20T22:08:06.124495+00:00', 'country': 'Netherlands', 'sector': 'Technology & Communications', 'industry': 'Internet Media & Services'}] count=None\n",
      "data=[{'id': 'b43cc4d2-e38b-4462-a5f5-14324cbe1269', 'name': 'GN Store Nord', 'isin': 'DK0010272632', 'created_at': '2025-03-20T22:08:06.496964+00:00', 'country': 'Denmark', 'sector': 'Health Care', 'industry': 'Medical Equipment & Supplies'}] count=None\n",
      "data=[{'id': 'd9d77d92-96c6-41ec-a533-ccc6327a93e9', 'name': 'Ørsted', 'isin': 'DK0060094928', 'created_at': '2025-03-20T22:08:06.946705+00:00', 'country': 'Denmark', 'sector': 'Infrastructure', 'industry': 'Electric Utilities & Power Generators'}] count=None\n",
      "data=[{'id': '203e1840-c8d5-4803-b76c-da8bd5f0557f', 'name': 'Mærsk', 'isin': 'DK0010244425', 'created_at': '2025-03-20T22:08:07.162409+00:00', 'country': 'Denmark', 'sector': 'Transportation', 'industry': 'Marine Transportation'}] count=None\n",
      "data=[{'id': '11760aed-20f2-47d5-81a6-f338cd2fb3a9', 'name': 'Solar', 'isin': 'DK0010274844', 'created_at': '2025-03-20T22:08:07.363695+00:00', 'country': 'Denmark', 'sector': 'Renewable Resources & Alternative Energy', 'industry': 'Solar Technology & Project Developers'}] count=None\n",
      "data=[{'id': '1b75ec3b-0814-481a-a417-5647e95f4518', 'name': 'Carlsberg', 'isin': 'DK0010181759', 'created_at': '2025-03-20T22:08:07.779459+00:00', 'country': 'Denmark', 'sector': 'Food & Beverage', 'industry': 'Alcoholic Beverages'}] count=None\n",
      "data=[{'id': '67cd0d3c-44a7-4158-bda1-f3d0cd8f7f74', 'name': 'Rockwool', 'isin': 'DK0010219153', 'created_at': '2025-03-20T22:08:08.13094+00:00', 'country': 'Denmark', 'sector': 'Consumer Goods', 'industry': 'Building Products & Furnishings'}] count=None\n",
      "data=[{'id': 'f1f301aa-fe04-4bee-ab0b-a6c440d1c4b1', 'name': 'Danske Bank', 'isin': 'DK0010274414', 'created_at': '2025-03-20T22:08:08.490131+00:00', 'country': 'Denmark', 'sector': 'Financials', 'industry': 'Commercial Banks'}] count=None\n",
      "data=[{'id': '020b017a-83c0-47b1-9331-48b63cf4a9d1', 'name': 'Danica Pension', 'isin': 'n.a.', 'created_at': '2025-03-20T22:08:08.748987+00:00', 'country': 'Denmark', 'sector': 'Financials', 'industry': 'Insurance'}] count=None\n",
      "data=[{'id': '89387bfc-5fed-460b-997b-1b9b6c31042d', 'name': 'DSB', 'isin': 'n.a.', 'created_at': '2025-03-20T22:08:08.901257+00:00', 'country': 'Denmark', 'sector': 'Transportation', 'industry': 'Rail Transportation'}] count=None\n",
      "data=[{'id': '57c811eb-1f8c-4281-8513-67781ae4f24e', 'name': 'Barco', 'isin': 'BE0974362940', 'created_at': '2025-03-20T22:08:09.104431+00:00', 'country': 'Belgium', 'sector': 'Technology & Communications', 'industry': 'Hardware'}] count=None\n",
      "data=[{'id': '48e05640-ab7d-4a05-a4d4-41f135b9eade', 'name': 'Randstad', 'isin': 'NL0000379121', 'created_at': '2025-03-20T22:08:09.49373+00:00', 'country': 'Netherlands', 'sector': 'Services', 'industry': 'Professional & Commercial Services'}] count=None\n",
      "data=[{'id': '44785b60-f4c0-48fa-a03b-a12461764c23', 'name': 'Genmab', 'isin': 'DK0010272202', 'created_at': '2025-03-20T22:08:09.65334+00:00', 'country': 'Denmark', 'sector': 'Health Care', 'industry': 'Biotechnology & Pharmaceuticals'}] count=None\n",
      "data=[{'id': '5047a91f-85d0-44c3-9342-4e62d805f78c', 'name': 'Stora Enso', 'isin': 'FI0009005961', 'created_at': '2025-03-20T22:08:10.145811+00:00', 'country': 'Finland', 'sector': 'Renewable Resources & Alternative Energy', 'industry': 'Pulp & Paper Products'}] count=None\n",
      "data=[{'id': 'b040180b-49be-4271-90cd-7036f1a19498', 'name': 'Norsk Hydro', 'isin': 'NO0005052605', 'created_at': '2025-03-20T22:08:10.520662+00:00', 'country': 'Norway', 'sector': 'Extractives & Mineral Processing', 'industry': 'Metals & Mining'}] count=None\n",
      "data=[{'id': '02e5be8a-2928-414c-9352-6f04a16b2ea3', 'name': 'Gjensidige Forsikring ASA', 'isin': 'NO0010582521', 'created_at': '2025-03-20T22:08:11.172907+00:00', 'country': 'Norway', 'sector': 'Financials', 'industry': 'Insurance'}] count=None\n",
      "data=[{'id': 'bc004807-e945-4fd2-8ec0-1337fb4543d5', 'name': 'Kone', 'isin': 'FI0009013403', 'created_at': '2025-03-20T22:08:11.73267+00:00', 'country': 'Finland', 'sector': 'Resource Transformation', 'industry': 'Industrial Machinery & Goods'}] count=None\n",
      "data=[{'id': 'c2f22a0c-976a-42d1-8237-0e6c795587fc', 'name': 'Alfen', 'isin': 'NL0012817175', 'created_at': '2025-03-20T22:08:11.966754+00:00', 'country': 'Netherlands', 'sector': 'Resource Transformation', 'industry': 'Electrical & Electronic Equipment'}] count=None\n",
      "data=[{'id': 'a4ad1e0a-ac26-47f7-ad56-2be52fba58da', 'name': 'Mapfre', 'isin': 'n.a.', 'created_at': '2025-03-20T22:08:12.174252+00:00', 'country': 'Spain', 'sector': 'Financials', 'industry': 'Insurance'}] count=None\n",
      "data=[{'id': '32e0740e-f408-4716-83de-e81f8083a4ae', 'name': 'Banco Sabadell', 'isin': 'n.a.', 'created_at': '2025-03-20T22:08:12.448119+00:00', 'country': 'Spain', 'sector': 'Financials', 'industry': 'Commercial Banks'}] count=None\n",
      "data=[{'id': 'd7e1dda9-ed19-443a-8772-a34cbc85fb75', 'name': 'BBVA', 'isin': 'ES0113211835', 'created_at': '2025-03-20T22:08:12.84749+00:00', 'country': 'Spain', 'sector': 'Financials', 'industry': 'Commercial Banks'}] count=None\n",
      "data=[{'id': '61f9062a-d5b2-40a6-ad51-92ce4b6ffe87', 'name': 'Royal Schiphol Group', 'isin': 'n.a.', 'created_at': '2025-03-20T22:08:13.056965+00:00', 'country': 'Netherlands', 'sector': 'Transportation', 'industry': 'Air Freight & Logistics'}] count=None\n",
      "data=[{'id': '927e0b55-d32f-445a-9990-f6476abba260', 'name': 'WithSecure ', 'isin': 'FI4000519228', 'created_at': '2025-03-20T22:08:13.431519+00:00', 'country': 'Finland', 'sector': 'Technology & Communications', 'industry': 'Software & IT Services'}] count=None\n",
      "data=[{'id': 'b514fdca-ea30-434b-bf57-8ec66c2182a5', 'name': 'Sartorius', 'isin': 'DE0007165631', 'created_at': '2025-03-20T22:08:13.606111+00:00', 'country': 'Germany', 'sector': 'Health Care', 'industry': 'Medical Equipment & Supplies'}] count=None\n",
      "data=[{'id': '8426b766-6fd4-4dd1-a3d3-9405dcf71917', 'name': 'Fortum', 'isin': 'FI0009007132', 'created_at': '2025-03-20T22:08:13.775052+00:00', 'country': 'Finland', 'sector': 'Infrastructure', 'industry': 'Electric Utilities & Power Generators'}] count=None\n",
      "data=[{'id': '69fa4aa5-146c-4f19-963a-a13a65aa490b', 'name': 'Fiskars Group', 'isin': 'FI0009000400', 'created_at': '2025-03-20T22:08:13.934946+00:00', 'country': 'Finland', 'sector': 'Consumer Goods', 'industry': 'Appliance Manufacturing'}] count=None\n",
      "data=[{'id': '336b0cac-0b92-4e6e-ab9b-67204dce5720', 'name': 'Wärtsilä', 'isin': 'FI0009003727', 'created_at': '2025-03-20T22:08:14.186295+00:00', 'country': 'Finland', 'sector': 'Consumer Goods', 'industry': 'Appliance Manufacturing'}] count=None\n",
      "data=[{'id': '71a52da5-eb4a-4ab0-a047-b334741d1807', 'name': 'NNIT', 'isin': 'DK0060580512', 'created_at': '2025-03-20T22:08:14.389622+00:00', 'country': 'Denmark', 'sector': 'Technology & Communications', 'industry': 'Software & IT Services'}] count=None\n",
      "data=[{'id': 'e8cc4052-c168-4cd1-8486-52ea837b5f6c', 'name': 'ALK', 'isin': 'DK0061802139', 'created_at': '2025-03-20T22:08:14.561105+00:00', 'country': 'Denmark', 'sector': 'Health Care', 'industry': 'Biotechnology & Pharmaceuticals'}] count=None\n",
      "data=[{'id': '3ef25fb8-ed41-4609-8fb6-ad5cc14c4059', 'name': 'ISS', 'isin': 'DK0060542181', 'created_at': '2025-03-20T22:08:14.767581+00:00', 'country': 'Denmark', 'sector': 'Services', 'industry': 'Professional & Commercial Services'}] count=None\n",
      "data=[{'id': '24d01b50-6d54-496f-b4fb-5e765ffe997a', 'name': 'HSBC Continental Europe', 'isin': 'FR0013383502', 'created_at': '2025-03-20T22:08:15.164269+00:00', 'country': 'France', 'sector': 'Financials', 'industry': 'Commercial Banks'}] count=None\n",
      "data=[{'id': '8e3915fd-8632-4d46-a81a-d15bceadbc02', 'name': 'Nilfisk', 'isin': 'DK0060907293', 'created_at': '2025-03-20T22:08:15.311902+00:00', 'country': 'Denmark', 'sector': 'Resource Transformation', 'industry': 'Industrial Machinery & Goods'}] count=None\n",
      "data=[{'id': '49b09d3c-05aa-4856-96e4-30babc72fdd6', 'name': 'Heineken', 'isin': 'NL0000009165', 'created_at': '2025-03-20T22:08:15.470823+00:00', 'country': 'Netherlands', 'sector': 'Food & Beverage', 'industry': 'Alcoholic Beverages'}] count=None\n",
      "data=[{'id': '9a156801-b805-4c35-9e2f-1d74d5300eb9', 'name': 'SBM Offshore', 'isin': 'NL0000360618', 'created_at': '2025-03-20T22:08:15.661719+00:00', 'country': 'Netherlands', 'sector': 'Extractives & Mineral Processing', 'industry': 'Oil & Gas – Exploration & Production'}] count=None\n",
      "data=[{'id': 'aea5cd82-0491-4fe2-a366-4aa8873c5e1b', 'name': 'FLSmidth', 'isin': 'DK0010234467', 'created_at': '2025-03-20T22:08:16.243865+00:00', 'country': 'Denmark', 'sector': 'Infrastructure', 'industry': 'Engineering & Construction Services'}] count=None\n",
      "data=[{'id': '09b27718-0632-4a63-b041-54eff0dffb6c', 'name': 'AMAG Austria Metall', 'isin': 'AT00000AMAG3', 'created_at': '2025-03-20T22:08:16.470753+00:00', 'country': 'Austria', 'sector': 'Extractives & Mineral Processing', 'industry': 'Metals & Mining'}] count=None\n",
      "data=[{'id': '69436846-c712-4746-8a87-69db38284f63', 'name': 'Airbus', 'isin': 'NL0000235190', 'created_at': '2025-03-20T22:08:16.619987+00:00', 'country': 'France', 'sector': 'Resource Transformation', 'industry': 'Aerospace & Defence'}] count=None\n",
      "data=[{'id': 'acd1954b-4fab-4e2a-8582-66bd135e70d4', 'name': 'Repsol ', 'isin': 'ES0173516115', 'created_at': '2025-03-20T22:08:16.786341+00:00', 'country': 'Spain', 'sector': 'Extractives & Mineral Processing', 'industry': 'Oil & Gas – Exploration & Production'}] count=None\n",
      "data=[{'id': 'a26632b9-551e-4279-b667-628c3556a004', 'name': 'BAM', 'isin': 'NL0000337319', 'created_at': '2025-03-20T22:08:17.021319+00:00', 'country': 'Netherlands', 'sector': 'Infrastructure', 'industry': 'Engineering & Construction Services'}] count=None\n",
      "data=[{'id': '80532e8d-ad06-4945-9fba-1a5c119b8fc7', 'name': 'NKT', 'isin': 'DK0010287663', 'created_at': '2025-03-20T22:08:17.298006+00:00', 'country': 'Denmark', 'sector': 'Resource Transformation', 'industry': 'Electrical & Electronic Equipment'}] count=None\n",
      "data=[{'id': 'cbc41866-4e36-484e-8cde-f5b823f6da59', 'name': 'Kemira', 'isin': 'FI0009004824', 'created_at': '2025-03-20T22:08:17.505412+00:00', 'country': 'Finland', 'sector': 'Resource Transformation', 'industry': 'Chemicals'}] count=None\n",
      "data=[{'id': '78c3f115-692a-4c5f-900c-d0892219027c', 'name': 'Nordea', 'isin': 'FI4000297767', 'created_at': '2025-03-20T22:08:17.923404+00:00', 'country': 'Finland', 'sector': 'Financials', 'industry': 'Commercial Banks'}] count=None\n",
      "data=[{'id': 'ca944708-f8d7-4ad1-9c66-70bed0382ff7', 'name': 'Bank of Ireland', 'isin': 'XS2226123573', 'created_at': '2025-03-20T22:08:18.089271+00:00', 'country': 'Ireland', 'sector': 'Financials', 'industry': 'Commercial Banks'}] count=None\n",
      "data=[{'id': '81190807-e0fe-476c-bd0c-ccd41b2e8bb9', 'name': 'Barclays Bank PLC', 'isin': 'GB0000784164', 'created_at': '2025-03-20T22:08:18.498229+00:00', 'country': 'United Kingdom', 'sector': 'Financials', 'industry': 'Commercial Banks'}] count=None\n",
      "data=[{'id': 'fb530102-192e-4ed8-8abd-76cad60fe5dc', 'name': 'Philips', 'isin': 'NL0000009538', 'created_at': '2025-03-20T22:08:18.758698+00:00', 'country': 'Netherlands', 'sector': 'Infrastructure', 'industry': 'Electric Utilities & Power Generators'}] count=None\n",
      "data=[{'id': '1f1ad3b3-9977-40e2-bbaf-b6b785002667', 'name': 'Swedbank', 'isin': 'SE0000242455', 'created_at': '2025-03-20T22:08:19.011444+00:00', 'country': 'Sweden', 'sector': 'Financials', 'industry': 'Commercial Banks'}] count=None\n",
      "data=[{'id': 'fa396013-0e64-4e12-abaf-ead1a06d6ca1', 'name': 'Sanofi', 'isin': 'FR0000120578', 'created_at': '2025-03-20T22:08:19.226183+00:00', 'country': 'France', 'sector': 'Health Care', 'industry': 'Biotechnology & Pharmaceuticals'}] count=None\n",
      "data=[{'id': 'e1a6f588-8245-4406-8b5d-8db0dbcb7baf', 'name': 'Royal Unibrew', 'isin': 'DK0060634707', 'created_at': '2025-03-20T22:08:19.444456+00:00', 'country': 'Denmark', 'sector': 'Food & Beverage', 'industry': 'Alcoholic Beverages'}] count=None\n",
      "data=[{'id': 'd6838c8a-d834-48c4-b74d-163184c3ce94', 'name': 'Deutsche Telekom', 'isin': 'DE0005557508', 'created_at': '2025-03-20T22:08:19.725533+00:00', 'country': 'Germany', 'sector': 'Technology & Communications', 'industry': 'Telecommunication Services'}] count=None\n",
      "data=[{'id': 'f2c3e711-8bc9-4aa4-94c9-2c0344d4eef0', 'name': 'Covestro', 'isin': 'DE0006062144', 'created_at': '2025-03-20T22:08:19.880352+00:00', 'country': 'Germany', 'sector': 'Resource Transformation', 'industry': 'Chemicals'}] count=None\n",
      "data=[{'id': 'f96f0654-9f39-475f-84f2-34d130b8dcf7', 'name': 'UniCredit', 'isin': 'IT0005239360', 'created_at': '2025-03-20T22:08:20.05057+00:00', 'country': 'Italy', 'sector': 'Financials', 'industry': 'Commercial Banks'}] count=None\n",
      "data=[{'id': '649b2f04-6351-426e-82e3-488d0fb90bb8', 'name': 'Novonesis', 'isin': 'DK0060336014', 'created_at': '2025-03-20T22:08:20.287645+00:00', 'country': 'Denmark', 'sector': 'Health Care', 'industry': 'Biotechnology & Pharmaceuticals'}] count=None\n",
      "data=[{'id': '5973d38f-ea00-468f-b766-67867ca11311', 'name': 'TKM Grupp', 'isin': 'EE0000001105', 'created_at': '2025-03-20T22:08:20.567567+00:00', 'country': 'Estonia', 'sector': 'Food & Beverage', 'industry': 'Food Retailers & Distributors'}] count=None\n",
      "data=[{'id': 'eb854e38-9d22-4e6f-ac22-e376b2ba3556', 'name': 'E.ON', 'isin': 'DE000ENAG999', 'created_at': '2025-03-20T22:08:20.729166+00:00', 'country': 'Germany', 'sector': 'Infrastructure', 'industry': 'Electric Utilities & Power Generators'}] count=None\n",
      "data=[{'id': '8d672145-fea7-47be-8c20-99ec6bcd837d', 'name': 'Raiffeisen Bank International', 'isin': 'AT0000606306', 'created_at': '2025-03-20T22:08:20.914653+00:00', 'country': 'Austria', 'sector': 'Financials', 'industry': 'Commercial Banks'}] count=None\n",
      "data=[{'id': 'ca50b131-b788-4944-a23b-f6498308bda9', 'name': 'Royal Ahold Delhaize N.V.', 'isin': 'NL0011794037', 'created_at': '2025-03-20T22:08:21.082029+00:00', 'country': 'Netherlands', 'sector': 'Food & Beverage', 'industry': 'Food Retailers & Distributors'}] count=None\n",
      "data=[{'id': 'cfb98496-0146-4bf2-a905-b13ff4952bf2', 'name': 'Ignitis Group', 'isin': 'LT0000115768', 'created_at': '2025-03-20T22:08:21.284022+00:00', 'country': 'Lithuania', 'sector': 'Infrastructure', 'industry': 'Electric Utilities & Power Generators'}] count=None\n",
      "data=[{'id': '329afd3b-931b-4d80-a728-8e19cca318f4', 'name': 'Axfood', 'isin': 'SE0006993770', 'created_at': '2025-03-20T22:08:21.485413+00:00', 'country': 'Sweden', 'sector': 'Food & Beverage', 'industry': 'Food Retailers & Distributors'}] count=None\n",
      "data=[{'id': '92385a42-5ea4-4655-b6b0-4c0475a59989', 'name': 'MT Højgaard Holding', 'isin': 'DK0010255975', 'created_at': '2025-03-20T22:08:21.693807+00:00', 'country': 'Denmark', 'sector': 'Infrastructure', 'industry': 'Engineering & Construction Services'}] count=None\n",
      "data=[{'id': '2d949d43-f8b1-458c-85ca-a6c01704ab1c', 'name': 'DFDS', 'isin': 'DK0060655629', 'created_at': '2025-03-20T22:08:21.842961+00:00', 'country': 'Denmark', 'sector': 'Transportation', 'industry': 'Marine Transportation'}] count=None\n",
      "data=[{'id': 'a137d850-27fb-42fb-86cf-998b2e7e32fd', 'name': 'UCB', 'isin': 'BE0003739530', 'created_at': '2025-03-20T22:08:22.210233+00:00', 'country': 'Belgium', 'sector': 'Health Care', 'industry': 'Biotechnology & Pharmaceuticals'}] count=None\n",
      "data=[{'id': '0fe52f4c-9781-4949-a9c9-375407d79a25', 'name': 'PostNL', 'isin': 'NL0009739416', 'created_at': '2025-03-20T22:08:22.433135+00:00', 'country': 'Netherlands', 'sector': 'Transportation', 'industry': 'Air Freight & Logistics'}] count=None\n",
      "data=[{'id': 'afac52e1-9279-401b-a219-83809cfbf082', 'name': 'Telefónica Deutschland Group', 'isin': 'DE000A1J5RX9', 'created_at': '2025-03-20T22:08:22.613122+00:00', 'country': 'Germany', 'sector': 'Technology & Communications', 'industry': 'Telecommunication Services'}] count=None\n",
      "data=[{'id': 'f09b8fad-7d12-4015-87a2-c476ed2a01e9', 'name': 'Tatra banka', 'isin': 'SK1110001502', 'created_at': '2025-03-20T22:08:22.775919+00:00', 'country': 'Slovakia', 'sector': 'Financials', 'industry': 'Commercial Banks'}] count=None\n",
      "data=[{'id': '02e6f958-d9bc-4a90-8f86-1123d0a05dab', 'name': 'Arena Hospitality Group', 'isin': 'HRARNTRA0004', 'created_at': '2025-03-20T22:08:22.931987+00:00', 'country': 'Croatia', 'sector': 'Services', 'industry': 'Hotels & Lodging'}] count=None\n",
      "data=[{'id': '06d82915-a01f-411b-afaa-bccabf6d8043', 'name': 'Elisa', 'isin': 'FI0009007884', 'created_at': '2025-03-20T22:08:23.1459+00:00', 'country': 'Finland', 'sector': 'Technology & Communications', 'industry': 'Telecommunication Services'}] count=None\n",
      "data=[{'id': '16234115-e6a5-4513-8c2e-23b7b5b97491', 'name': 'Kesko', 'isin': 'FI0009000202', 'created_at': '2025-03-20T22:08:23.5609+00:00', 'country': 'Finland', 'sector': 'Food & Beverage', 'industry': 'Food Retailers & Distributors'}] count=None\n",
      "data=[{'id': 'c1999a2a-0bd1-4fcf-9c0b-612b67be29e0', 'name': 'Konecranes', 'isin': 'FI0009005870', 'created_at': '2025-03-20T22:08:23.703046+00:00', 'country': 'Finland', 'sector': 'Resource Transformation', 'industry': 'Industrial Machinery & Goods'}] count=None\n",
      "data=[{'id': 'cd19acde-2b82-4fbd-8f92-1d892c3063b6', 'name': 'Neste', 'isin': 'FI0009013296', 'created_at': '2025-03-20T22:08:23.847591+00:00', 'country': 'Finland', 'sector': 'Extractives & Mineral Processing', 'industry': 'Oil & Gas – Refining & Marketing'}] count=None\n",
      "data=[{'id': 'd075ec11-0102-44ea-819d-d198987e3ddc', 'name': 'Sartorius Stedim Biotech', 'isin': 'FR0013154002', 'created_at': '2025-03-20T22:08:24.002473+00:00', 'country': 'France', 'sector': 'Health Care', 'industry': 'Medical Equipment & Supplies'}] count=None\n",
      "data=[{'id': '267dd25f-d173-4f3a-9252-3f24747da628', 'name': 'Hochtief AG', 'isin': 'DE0006070006', 'created_at': '2025-03-20T22:08:24.170493+00:00', 'country': 'Germany', 'sector': 'Infrastructure', 'industry': 'Engineering & Construction Services'}] count=None\n",
      "data=[{'id': '73b819ec-b079-468f-be8d-a9c0a31c44b8', 'name': 'SAP', 'isin': 'DE0007164600', 'created_at': '2025-03-20T22:08:24.327456+00:00', 'country': 'Germany', 'sector': 'Technology & Communications', 'industry': 'Software & IT Services'}] count=None\n",
      "data=[{'id': 'dc6da9bf-2b0f-44f2-a6c9-681e2ff30c32', 'name': 'Ferrari', 'isin': 'NL0011585146', 'created_at': '2025-03-20T22:08:24.52528+00:00', 'country': 'Italy', 'sector': 'Transportation', 'industry': 'Automobiles'}] count=None\n",
      "data=[{'id': '92a90af6-8509-4649-8aa9-2d93ff94a8fc', 'name': 'Banco Santander', 'isin': 'ES0113900J37', 'created_at': '2025-03-20T22:08:24.684822+00:00', 'country': 'Spain', 'sector': 'Financials', 'industry': 'Commercial Banks'}] count=None\n",
      "data=[{'id': '263264b5-8b70-4030-8b1c-365107db6668', 'name': 'European Energy', 'isin': 'DK0030521927', 'created_at': '2025-03-20T22:08:24.899054+00:00', 'country': 'Denmark', 'sector': 'Renewable Resources & Alternative Energy', 'industry': 'Wind Technology & Project Developers'}] count=None\n",
      "data=[{'id': 'd221eb31-b4b8-49d6-9d87-0a688e83092e', 'name': 'Trifork Group', 'isin': 'CH1111227810', 'created_at': '2025-03-20T22:08:25.125539+00:00', 'country': 'Switzerland', 'sector': 'Technology & Communications', 'industry': 'Internet Media & Services'}] count=None\n",
      "data=[{'id': '312567b6-32a1-4096-a281-c6595506a2ed', 'name': 'FinnAir', 'isin': 'FI4000567029', 'created_at': '2025-03-20T22:08:25.439831+00:00', 'country': 'Finland', 'sector': 'Transportation', 'industry': 'Airlines'}] count=None\n",
      "data=[{'id': '0cfadf69-9440-4577-a636-082b3912f7a3', 'name': 'Acerinox', 'isin': 'ES0132105018', 'created_at': '2025-03-20T22:08:25.615166+00:00', 'country': 'Spain', 'sector': 'Extractives & Mineral Processing', 'industry': 'Iron & Steel Producers'}] count=None\n",
      "data=[{'id': '30f2ebbc-d6db-4250-81fb-d4835016c528', 'name': 'Cellnex', 'isin': 'ES0105066007', 'created_at': '2025-03-20T22:08:25.813075+00:00', 'country': 'Spain', 'sector': 'Technology & Communications', 'industry': 'Telecommunication Services'}] count=None\n",
      "data=[{'id': 'e637e1aa-9998-420c-afb0-bd534ecc492a', 'name': 'Ferrovial', 'isin': 'NL0015001FS8', 'created_at': '2025-03-20T22:08:26.062878+00:00', 'country': 'Spain', 'sector': 'Infrastructure', 'industry': 'Engineering & Construction Services'}] count=None\n",
      "data=[{'id': 'e0fe9d38-b756-4c3e-b7d1-f14e1c4c36a5', 'name': 'AB InBev', 'isin': 'BE0974293251', 'created_at': '2025-03-20T22:08:26.354856+00:00', 'country': 'Belgium', 'sector': 'Food & Beverage', 'industry': 'Alcoholic Beverages'}] count=None\n",
      "data=[{'id': 'acdb6a3a-ae43-44e6-bb61-5b93cd767a68', 'name': 'Amadeus IT Group', 'isin': 'ES0109067019', 'created_at': '2025-03-20T22:08:26.56244+00:00', 'country': 'Spain', 'sector': 'Technology & Communications', 'industry': 'Software & IT Services'}] count=None\n",
      "data=[{'id': 'f6af599e-4345-4457-88a0-d1a3c771f348', 'name': 'Bayer', 'isin': 'DE000BAY0017', 'created_at': '2025-03-20T22:08:26.871038+00:00', 'country': 'Germany', 'sector': 'Health Care', 'industry': 'Biotechnology & Pharmaceuticals'}] count=None\n",
      "data=[{'id': '541eea90-828b-42a2-9f90-42fff2e28fe1', 'name': 'Arcadis', 'isin': 'NL0006237562', 'created_at': '2025-03-20T22:08:27.037742+00:00', 'country': 'Netherlands', 'sector': 'Infrastructure', 'industry': 'Engineering & Construction Services'}] count=None\n",
      "data=[{'id': 'e1fd48b8-8dca-4de0-b412-f1f92309536e', 'name': 'Tietoevry', 'isin': 'FI0009000277', 'created_at': '2025-03-20T22:08:27.194505+00:00', 'country': 'Finland', 'sector': 'Technology & Communications', 'industry': 'Software & IT Services'}] count=None\n",
      "data=[{'id': 'd26f3ebe-0c1d-4c3e-93ca-e3c50d465846', 'name': 'adidas', 'isin': 'DE000A1EWWW0', 'created_at': '2025-03-20T22:08:27.424283+00:00', 'country': 'Germany', 'sector': 'Consumer Goods', 'industry': 'Apparel, Accessories & Footwear'}] count=None\n",
      "data=[{'id': 'a3599d74-c9d0-4dc9-83e6-574487b375a0', 'name': 'ASML Holding NV', 'isin': 'NL0010273215', 'created_at': '2025-03-20T22:08:27.630804+00:00', 'country': 'Netherlands', 'sector': 'Technology & Communications', 'industry': 'Semiconductors'}] count=None\n",
      "data=[{'id': 'e579b031-daa7-4556-9375-85f1d682b83a', 'name': 'Evonik', 'isin': 'DE000EVNK013', 'created_at': '2025-03-20T22:08:27.796233+00:00', 'country': 'Germany', 'sector': 'Resource Transformation', 'industry': 'Chemicals'}] count=None\n",
      "data=[{'id': '3db6f919-8630-4bb7-adaf-ee21a1daab6a', 'name': 'DHL', 'isin': 'DE0005552004', 'created_at': '2025-03-20T22:08:27.960766+00:00', 'country': 'Germany', 'sector': 'Transportation', 'industry': 'Air Freight & Logistics'}] count=None\n",
      "data=[{'id': '0f3d93ba-2790-4702-ad46-5528dff7ce64', 'name': 'ING', 'isin': 'NL0011821202', 'created_at': '2025-03-20T22:08:28.125622+00:00', 'country': 'Netherlands', 'sector': 'Financials', 'industry': 'Commercial Banks'}] count=None\n",
      "data=[{'id': 'bc07d6e5-5595-46c8-b931-f501813939a6', 'name': 'Bavarian Nordic', 'isin': 'DK0015998017', 'created_at': '2025-03-20T22:08:28.458758+00:00', 'country': 'Denmark', 'sector': 'Health Care', 'industry': 'Biotechnology & Pharmaceuticals'}] count=None\n",
      "data=[{'id': '498a2d27-460c-4aa3-b785-b11b52321bb5', 'name': 'Deutsche Lufthansa AG', 'isin': 'DE0008232125', 'created_at': '2025-03-20T22:08:28.626754+00:00', 'country': 'Germany', 'sector': 'Transportation', 'industry': 'Airlines'}] count=None\n",
      "data=[{'id': '1bc5d2a9-be96-4bf5-9713-9686b7db058a', 'name': 'IAG', 'isin': 'ES0177542018', 'created_at': '2025-03-20T22:08:28.995955+00:00', 'country': 'United Kingdom', 'sector': 'Transportation', 'industry': 'Airlines'}] count=None\n",
      "data=[{'id': 'd38291cf-3a34-4f0d-8df6-0fb304168a0e', 'name': 'Aena', 'isin': 'ES0105046009', 'created_at': '2025-03-20T22:08:29.195108+00:00', 'country': 'Spain', 'sector': 'Transportation', 'industry': 'Air Freight & Logistics'}] count=None\n",
      "data=[{'id': '9f588c37-8b64-42b6-a365-71c8d3e1ef41', 'name': 'Merck', 'isin': 'DE0006599905', 'created_at': '2025-03-20T22:08:29.454595+00:00', 'country': 'Germany', 'sector': 'Health Care', 'industry': 'Biotechnology & Pharmaceuticals'}] count=None\n",
      "data=[{'id': '774281fb-de50-41d6-a053-bfe3b3566472', 'name': 'Telefónica', 'isin': 'ES0178430E18', 'created_at': '2025-03-20T22:08:29.698155+00:00', 'country': 'Spain', 'sector': 'Technology & Communications', 'industry': 'Telecommunication Services'}] count=None\n",
      "data=[{'id': '33ca8e91-ed99-4691-a05f-6b71c3e66376', 'name': 'Signify', 'isin': 'NL0011821392', 'created_at': '2025-03-20T22:08:29.860702+00:00', 'country': 'Netherlands', 'sector': 'Resource Transformation', 'industry': 'Electrical & Electronic Equipment'}] count=None\n",
      "data=[{'id': 'f97949ef-2463-4093-81f0-8975c48ec9f1', 'name': 'UPM', 'isin': 'FI0009005987', 'created_at': '2025-03-20T22:08:30.067681+00:00', 'country': 'Finland', 'sector': 'Renewable Resources & Alternative Energy', 'industry': 'Pulp & Paper Products'}] count=None\n",
      "data=[{'id': '66fff786-b15b-465b-8798-6319212a88b7', 'name': 'Kalmar Global', 'isin': 'FI4000571054', 'created_at': '2025-03-20T22:08:30.415379+00:00', 'country': 'Finland', 'sector': 'Resource Transformation', 'industry': 'Industrial Machinery & Goods'}] count=None\n",
      "data=[{'id': 'e98bf7f6-ba4d-471f-8928-a09554245bb1', 'name': 'Nokian Tyres', 'isin': 'FI0009005318', 'created_at': '2025-03-20T22:08:30.589266+00:00', 'country': 'Finland', 'sector': 'Transportation', 'industry': 'Auto Parts'}] count=None\n",
      "data=[{'id': '079798cd-4b85-4f33-8b20-60d99a871256', 'name': 'Austrian Post', 'isin': 'AT0000APOST4', 'created_at': '2025-03-20T22:08:30.749983+00:00', 'country': 'Austria', 'sector': 'Transportation', 'industry': 'Air Freight & Logistics'}] count=None\n",
      "data=[{'id': 'd61c1b90-d800-46c9-8298-23ac1362512d', 'name': 'KPN', 'isin': 'NL0000009082', 'created_at': '2025-03-20T22:08:30.916495+00:00', 'country': 'Netherlands', 'sector': 'Technology & Communications', 'industry': 'Telecommunication Services'}] count=None\n",
      "data=[{'id': '7af915be-c71d-40ac-b8f5-e83329a0b986', 'name': 'AIB', 'isin': 'IE00BF0L3536', 'created_at': '2025-03-20T22:08:31.073295+00:00', 'country': 'Ireland', 'sector': 'Financials', 'industry': 'Commercial Banks'}] count=None\n",
      "data=[{'id': '33feef2e-103f-436c-b56c-5609f8e56d05', 'name': 'Stellantis', 'isin': 'NL00150001Q9', 'created_at': '2025-03-20T22:08:31.235807+00:00', 'country': 'Netherlands', 'sector': 'Transportation', 'industry': 'Automobiles'}] count=None\n",
      "data=[{'id': '26e5cd8d-4f1e-44c4-bfa1-c1a4c2146921', 'name': 'EDP Renováveis SA', 'isin': 'ES0127797019', 'created_at': '2025-03-20T22:08:31.395966+00:00', 'country': 'Portugal', 'sector': 'Infrastructure', 'industry': 'Electric Utilities & Power Generators'}] count=None\n",
      "data=[{'id': '4b9f807b-9a1e-436d-abc6-f986b214351d', 'name': 'Acomo', 'isin': 'NL0000313286', 'created_at': '2025-03-20T22:08:31.550049+00:00', 'country': 'Netherlands', 'sector': 'Food & Beverage', 'industry': 'Processed Foods'}] count=None\n",
      "data=[{'id': '20a843e9-4490-4c88-9144-94253b21b431', 'name': 'ELO', 'isin': 'FR001400EHH1', 'created_at': '2025-03-20T22:08:31.690356+00:00', 'country': 'France', 'sector': 'Food & Beverage', 'industry': 'Food Retailers & Distributors'}] count=None\n",
      "data=[{'id': '7196e624-e493-4ed8-ac6a-f43f26aece66', 'name': 'Volkswagen', 'isin': 'DE0007664039', 'created_at': '2025-03-20T22:08:31.83849+00:00', 'country': 'Germany', 'sector': 'Transportation', 'industry': 'Automobiles'}] count=None\n",
      "data=[{'id': 'bd1d9231-bba4-440f-ba73-bcfcdff5a5a6', 'name': 'Helvetia', 'isin': 'CH0466642201', 'created_at': '2025-03-20T22:08:31.9953+00:00', 'country': 'Switzerland', 'sector': 'Financials', 'industry': 'Insurance'}] count=None\n",
      "data=[{'id': '05e5dc2d-a8bb-45ec-804a-95223127f61e', 'name': 'Iveco Group', 'isin': 'NL0015000LU4', 'created_at': '2025-03-20T22:08:32.157323+00:00', 'country': 'Netherlands', 'sector': 'Transportation', 'industry': 'Automobiles'}] count=None\n",
      "data=[{'id': 'a37a7480-a5d0-424e-a003-11ded441367c', 'name': 'Air Liquide', 'isin': 'FR0000120073', 'created_at': '2025-03-20T22:08:32.311751+00:00', 'country': 'France', 'sector': 'Resource Transformation', 'industry': 'Chemicals'}] count=None\n",
      "data=[{'id': 'f9eebad4-5660-4641-8d09-690172d59f64', 'name': 'ABN Amro', 'isin': 'NL0011540547', 'created_at': '2025-03-20T22:08:32.543892+00:00', 'country': 'Netherlands', 'sector': 'Financials', 'industry': 'Commercial Banks'}] count=None\n",
      "data=[{'id': '4091f420-7f4f-4d5e-b999-d74acd135fea', 'name': 'Brenntag SE', 'isin': 'DE000A1DAHH0 ', 'created_at': '2025-03-20T22:08:32.6971+00:00', 'country': 'Germany', 'sector': 'Resource Transformation', 'industry': 'Chemicals'}] count=None\n",
      "data=[{'id': '1ab912c7-5bcc-495a-80a1-4de5acd422aa', 'name': 'Zalando SE', 'isin': 'DE000ZAL1111', 'created_at': '2025-03-20T22:08:32.869807+00:00', 'country': 'Germany', 'sector': 'Consumer Goods', 'industry': 'E-Commerce'}] count=None\n",
      "data=[{'id': '06a59d42-3a6b-4b04-b032-5ab26b50fbae', 'name': 'Adyen B.V. Parts Sociales', 'isin': 'NL0012969182', 'created_at': '2025-03-20T22:08:33.034148+00:00', 'country': 'Netherlands', 'sector': 'Consumer Goods', 'industry': 'E-Commerce'}] count=None\n",
      "data=[{'id': 'eccadbc5-a613-4494-882a-581a19875040', 'name': 'Porsche', 'isin': 'DE000PAG9113', 'created_at': '2025-03-20T22:08:33.230496+00:00', 'country': 'Germany', 'sector': 'Transportation', 'industry': 'Automobiles'}] count=None\n",
      "data=[{'id': 'ad4807ac-3a4f-46ec-b99d-859f1d094dae', 'name': 'Rheinmetall', 'isin': 'DE0007030009', 'created_at': '2025-03-20T22:08:33.388291+00:00', 'country': 'Germany', 'sector': 'Resource Transformation', 'industry': 'Aerospace & Defence'}] count=None\n",
      "data=[{'id': '19bc957c-95ac-4f43-a758-fa681be43048', 'name': 'Wolters Kluwer', 'isin': 'NL0000395903', 'created_at': '2025-03-20T22:08:33.55167+00:00', 'country': 'Netherlands', 'sector': 'Services', 'industry': 'Professional & Commercial Services'}] count=None\n",
      "data=[{'id': '94e93e2b-d710-4827-94e5-54ec4560ff38', 'name': 'Schaeffler AG', 'isin': 'DE000SHA0019', 'created_at': '2025-03-20T22:08:33.76221+00:00', 'country': 'Germany', 'sector': 'Transportation', 'industry': 'Automobiles'}] count=None\n",
      "data=[{'id': '9272a7a9-eb1c-47e6-9bea-59fb920a2f9c', 'name': 'GEA', 'isin': 'DE0006602006', 'created_at': '2025-03-20T22:08:33.909676+00:00', 'country': 'Germany', 'sector': 'Resource Transformation', 'industry': 'Industrial Machinery & Goods'}] count=None\n",
      "data=[{'id': 'f26fe016-14ad-4ca8-9da9-c945c10830ef', 'name': 'Iberdrola', 'isin': 'ES0144580Y14', 'created_at': '2025-03-20T22:08:34.076901+00:00', 'country': 'Spain', 'sector': 'Infrastructure', 'industry': 'Electric Utilities & Power Generators'}] count=None\n",
      "data=[{'id': '420fd031-39c8-4a0f-8fb3-1d83d830b661', 'name': 'Saint-Gobain', 'isin': 'FR0000125007', 'created_at': '2025-03-20T22:08:34.256665+00:00', 'country': 'France', 'sector': 'Extractives & Mineral Processing', 'industry': 'Construction Materials'}] count=None\n",
      "data=[{'id': '323ed82f-edad-4513-920b-fac4885cd98f', 'name': 'Kingspan', 'isin': 'IE0004927939', 'created_at': '2025-03-20T22:08:34.418118+00:00', 'country': 'Ireland', 'sector': 'Consumer Goods', 'industry': 'Building Products & Furnishings'}] count=None\n",
      "data=[{'id': 'ebb23826-8d68-4695-877e-54f230ce016e', 'name': 'Metsä Group', 'isin': 'FI0009000665', 'created_at': '2025-03-20T22:08:34.781363+00:00', 'country': 'Finland', 'sector': 'Renewable Resources & Alternative Energy', 'industry': 'Pulp & Paper Products'}] count=None\n",
      "data=[{'id': '198c962a-8623-4281-90b3-46d8cfb67de3', 'name': 'Mercedes-Benz Group', 'isin': 'DE0007100000', 'created_at': '2025-03-20T22:08:35.004493+00:00', 'country': 'Germany', 'sector': 'Transportation', 'industry': 'Automobiles'}] count=None\n",
      "data=[{'id': '1fed5818-cba4-4600-b0f4-d5b793941930', 'name': 'Deutsche Bank', 'isin': 'DE0005140008', 'created_at': '2025-03-20T22:08:35.200582+00:00', 'country': 'Germany', 'sector': 'Financials', 'industry': 'Investment Banking & Brokerage'}] count=None\n",
      "data=[{'id': '845743bd-8e50-4f36-b4b6-a768479de576', 'name': 'K+S', 'isin': 'DE000KSAG888', 'created_at': '2025-03-20T22:08:35.415983+00:00', 'country': 'Germany', 'sector': 'Resource Transformation', 'industry': 'Chemicals'}] count=None\n",
      "data=[{'id': '4f8e7aa0-1aad-4085-abb4-866bbeb04c02', 'name': 'Uniper SE', 'isin': 'DE000UNSE026', 'created_at': '2025-03-20T22:08:35.590619+00:00', 'country': 'Germany', 'sector': 'Infrastructure', 'industry': 'Electric Utilities & Power Generators'}] count=None\n",
      "data=[{'id': '02353bc0-9506-48b5-a342-836d1fe9958f', 'name': 'EssilorLuxottica', 'isin': 'FR0000121667', 'created_at': '2025-03-20T22:08:35.831558+00:00', 'country': 'France', 'sector': 'Health Care', 'industry': 'Medical Equipment & Supplies'}] count=None\n",
      "data=[{'id': '3fad4707-02c3-4c11-b1c2-fb2dda659691', 'name': 'Huhtamaki', 'isin': 'FI0009000459', 'created_at': '2025-03-20T22:08:36.003311+00:00', 'country': 'Finland', 'sector': 'Resource Transformation', 'industry': 'Containers & Packaging'}] count=None\n",
      "data=[{'id': 'bc50c75e-cb20-4e16-90e4-4c4bad0a20a5', 'name': 'Rabobank', 'isin': 'n.a.', 'created_at': '2025-03-20T22:08:36.161646+00:00', 'country': 'Netherlands', 'sector': 'Financials', 'industry': 'Commercial Banks'}] count=None\n",
      "data=[{'id': 'abee8415-1bc6-4d08-8176-33a71ffe5325', 'name': 'BMW Group', 'isin': 'DE0005190003', 'created_at': '2025-03-20T22:08:36.337445+00:00', 'country': 'Germany', 'sector': 'Transportation', 'industry': 'Automobiles'}] count=None\n",
      "data=[{'id': '45974934-edf4-4728-bfe8-757c0419749d', 'name': 'Nokia', 'isin': 'FI0009000681', 'created_at': '2025-03-20T22:08:36.525911+00:00', 'country': 'Finland', 'sector': 'Technology & Communications', 'industry': 'Hardware'}] count=None\n",
      "data=[{'id': '1aced622-1fca-4410-b4ff-751eb1eed72d', 'name': 'Orion Oyi', 'isin': 'FI0009014377', 'created_at': '2025-03-20T22:08:36.688873+00:00', 'country': 'Finland', 'sector': 'Health Care', 'industry': 'Medical Equipment & Supplies'}] count=None\n",
      "data=[{'id': '45219533-4985-4610-ae12-ed2d1a092422', 'name': 'NN Group', 'isin': 'NL0010773842', 'created_at': '2025-03-20T22:08:36.859481+00:00', 'country': 'Netherlands', 'sector': 'Financials', 'industry': 'Insurance'}] count=None\n",
      "data=[{'id': '94b5ad5f-81dc-4502-84be-fd4396cafca7', 'name': 'Société Générale', 'isin': 'FR0000130809', 'created_at': '2025-03-20T22:08:37.072002+00:00', 'country': 'France', 'sector': 'Financials', 'industry': 'Commercial Banks'}] count=None\n",
      "data=[{'id': 'c858b310-6d18-4b86-ab74-9c6c00237f50', 'name': 'Rexel', 'isin': 'FR0010451203', 'created_at': '2025-03-20T22:08:37.396273+00:00', 'country': 'France', 'sector': 'Resource Transformation', 'industry': 'Industrial Machinery & Goods'}] count=None\n",
      "data=[{'id': '61021fe8-4ce1-4aa4-b427-5844c799c521', 'name': 'Sopra Steria', 'isin': 'FR0000050809', 'created_at': '2025-03-20T22:08:37.552332+00:00', 'country': 'France', 'sector': 'Technology & Communications', 'industry': 'Software & IT Services'}] count=None\n",
      "data=[{'id': '06c6798c-e15d-4128-84a5-841424b9417d', 'name': 'Allianz', 'isin': 'DE0008404005', 'created_at': '2025-03-20T22:08:37.734995+00:00', 'country': 'Germany', 'sector': 'Financials', 'industry': 'Insurance'}] count=None\n",
      "data=[{'id': '135be5fd-c62b-474c-8ac0-a793d416baee', 'name': 'Nordex SE', 'isin': 'DE000A0D6554', 'created_at': '2025-03-20T22:08:37.931291+00:00', 'country': 'Germany', 'sector': 'Renewable Resources & Alternative Energy', 'industry': 'Wind Technology & Project Developers'}] count=None\n",
      "data=[{'id': 'd9f476f8-011d-4992-b1e0-4b104676319b', 'name': 'Statkraft', 'isin': 'n.a.', 'created_at': '2025-03-20T22:08:38.084586+00:00', 'country': 'Norway', 'sector': 'Infrastructure', 'industry': 'Electric Utilities & Power Generators'}] count=None\n",
      "data=[{'id': '1c638796-7837-4814-ac20-7bf2215a7fd0', 'name': 'ProSiebenSat.1 Media SE', 'isin': 'DE000PSM7770', 'created_at': '2025-03-20T22:08:38.25958+00:00', 'country': 'Germany', 'sector': 'Services', 'industry': 'Media & Entertainment'}] count=None\n",
      "data=[{'id': 'f407f772-84eb-47f8-b9ec-3f7be5253e22', 'name': 'Danone', 'isin': 'FR0000120644', 'created_at': '2025-03-20T22:08:38.440934+00:00', 'country': 'France', 'sector': 'Food & Beverage', 'industry': 'Processed Foods'}] count=None\n",
      "data=[{'id': 'e0fd92e3-f6d0-413c-b23d-5f0166ebe390', 'name': 'VINCI', 'isin': 'FR0000125486', 'created_at': '2025-03-20T22:08:38.693588+00:00', 'country': 'France', 'sector': 'Infrastructure', 'industry': 'Engineering & Construction Services'}] count=None\n",
      "data=[{'id': '3a329dca-ad23-4455-b2e7-96d424f8e01f', 'name': 'RELX', 'isin': 'GB00B2B0DG97', 'created_at': '2025-03-20T22:08:38.846376+00:00', 'country': 'United Kingdom', 'sector': 'Services', 'industry': 'Professional & Commercial Services'}] count=None\n",
      "data=[{'id': '19384c2c-9ace-4af2-ab7a-4d81d6b58d6c', 'name': 'Coca Cola HBC', 'isin': 'CH0198251305', 'created_at': '2025-03-20T22:08:38.98881+00:00', 'country': 'Switzerland', 'sector': 'Food & Beverage', 'industry': 'Non-Alcoholic Beverages'}] count=None\n",
      "data=[{'id': '1da6bf7c-3cd5-4326-8974-e33f9f94c41a', 'name': 'Inditex', 'isin': 'ES0148396007', 'created_at': '2025-03-20T22:08:39.146048+00:00', 'country': 'Spain', 'sector': 'Consumer Goods', 'industry': 'Apparel, Accessories & Footwear'}] count=None\n",
      "data=[{'id': '8e3e45a0-696b-4d3c-88fb-77f57aafff1b', 'name': 'Storebrand ASA', 'isin': 'NO0003053605', 'created_at': '2025-03-20T22:08:39.295958+00:00', 'country': 'Norway', 'sector': 'Financials', 'industry': 'Insurance'}] count=None\n",
      "data=[{'id': 'd1e863cf-b101-468e-a387-088e8f743ccf', 'name': 'Puma ', 'isin': 'DE0006969603', 'created_at': '2025-03-20T22:08:39.439452+00:00', 'country': 'Germany', 'sector': 'Consumer Goods', 'industry': 'Apparel, Accessories & Footwear'}] count=None\n",
      "data=[{'id': 'af92610a-40c9-42bd-8d35-63427e2391d5', 'name': 'Continental AG', 'isin': 'DE0005439004', 'created_at': '2025-03-20T22:08:39.589315+00:00', 'country': 'Germany', 'sector': 'Transportation', 'industry': 'Auto Parts'}] count=None\n",
      "data=[{'id': '0d36738b-56c7-47a2-b245-2989eca49358', 'name': 'Sitowise Group Plc', 'isin': 'FI4000480215', 'created_at': '2025-03-20T22:08:39.742473+00:00', 'country': 'Finland', 'sector': 'Infrastructure', 'industry': 'Engineering & Construction Services'}] count=None\n",
      "data=[{'id': '1a784ea9-135f-4a67-a1ba-3aadf33fb22b', 'name': 'Sampo Group', 'isin': 'FI4000552500', 'created_at': '2025-03-20T22:08:40.136585+00:00', 'country': 'Finland', 'sector': 'Financials', 'industry': 'Insurance'}] count=None\n",
      "data=[{'id': '93ecb564-9842-4ea9-a6a8-604151dd241b', 'name': 'Engie SA', 'isin': 'FR0010208488', 'created_at': '2025-03-20T22:08:40.292319+00:00', 'country': 'France', 'sector': 'Infrastructure', 'industry': 'Electric Utilities & Power Generators'}] count=None\n",
      "data=[{'id': '13eb5716-6feb-44d6-9c82-bfae88fd109e', 'name': 'Vonovia SE', 'isin': 'DE000A1ML7J1', 'created_at': '2025-03-20T22:08:40.462732+00:00', 'country': 'Germany', 'sector': 'Infrastructure', 'industry': 'Real Estate'}] count=None\n",
      "data=[{'id': '155c47f0-88c3-4cc9-b101-8295dda9d862', 'name': 'BW Offshore Ltd', 'isin': 'BMG1738J1247', 'created_at': '2025-03-20T22:08:40.632811+00:00', 'country': 'Bermuda', 'sector': 'Transportation', 'industry': 'Marine Transportation'}] count=None\n",
      "data=[{'id': '66dda569-95b1-4232-85fa-54aa3e23da7a', 'name': 'Lenzing AG', 'isin': 'AT0000644505', 'created_at': '2025-03-20T22:08:40.799089+00:00', 'country': 'Austria', 'sector': 'Resource Transformation', 'industry': 'Chemicals'}] count=None\n",
      "data=[{'id': '1f5d1419-4f41-4be9-bbde-51a1a70e8f42', 'name': 'NWB Bank', 'isin': 'n.a.', 'created_at': '2025-03-20T22:08:41.050414+00:00', 'country': 'Netherlands', 'sector': 'Financials', 'industry': 'Commercial Banks'}] count=None\n",
      "data=[{'id': 'fa3b62a8-81b9-40d7-a237-a9cab68d99e3', 'name': 'EDP - Energias de Portugal SA', 'isin': 'PTEDP0AM0009', 'created_at': '2025-03-20T22:08:41.214931+00:00', 'country': 'Portugal', 'sector': 'Infrastructure', 'industry': 'Electric Utilities & Power Generators'}] count=None\n",
      "data=[{'id': 'bdd003d2-a401-4659-9e2b-fa2d760a506d', 'name': 'NOS', 'isin': 'PTZON0AM0006', 'created_at': '2025-03-20T22:08:41.379891+00:00', 'country': 'Portugal', 'sector': 'Technology & Communications', 'industry': 'Telecommunication Services'}] count=None\n",
      "data=[{'id': 'd4895b8d-364a-48a4-a274-42867a16d4e2', 'name': 'Prysmian', 'isin': 'IT0004176001', 'created_at': '2025-03-20T22:08:41.531686+00:00', 'country': 'Italy', 'sector': 'Resource Transformation', 'industry': 'Electrical & Electronic Equipment'}] count=None\n",
      "data=[{'id': '504f3d59-cbb9-4c87-80d4-cbd905f407bb', 'name': 'Novo Banco', 'isin': 'n.a', 'created_at': '2025-03-20T22:08:41.689724+00:00', 'country': 'Portugal', 'sector': 'Financials', 'industry': 'Commercial Banks'}] count=None\n",
      "data=[{'id': 'e1202787-9274-424c-9ea6-a4ecfe8c3e3c', 'name': 'RWE', 'isin': 'DE0007037129', 'created_at': '2025-03-20T22:08:41.850227+00:00', 'country': 'Germany', 'sector': 'Infrastructure', 'industry': 'Electric Utilities & Power Generators'}] count=None\n",
      "data=[{'id': '59788d0c-4fed-41c5-808b-f7bd5ef4ed5e', 'name': 'Triodos Bank', 'isin': 'n.a.', 'created_at': '2025-03-20T22:08:42.001938+00:00', 'country': 'Netherlands', 'sector': 'Financials', 'industry': 'Commercial Banks'}] count=None\n",
      "data=[{'id': 'c6f3a472-6fa9-4724-93fc-c5afc2c54c5f', 'name': 'AXA SA', 'isin': 'FR0000120628', 'created_at': '2025-03-20T22:08:42.171974+00:00', 'country': 'France', 'sector': 'Financials', 'industry': 'Insurance'}] count=None\n",
      "data=[{'id': '3b8c223c-c1c3-4e72-80c7-f40825e8b08f', 'name': 'Teleperformance', 'isin': 'FR0000051807', 'created_at': '2025-03-20T22:08:42.360235+00:00', 'country': 'France', 'sector': 'Technology & Communications', 'industry': 'Software & IT Services'}] count=None\n",
      "data=[{'id': 'fb90d430-b529-4d81-8fab-0834a9f35d25', 'name': 'Renault Group', 'isin': 'FR0000131906', 'created_at': '2025-03-20T22:08:42.530429+00:00', 'country': 'France', 'sector': 'Transportation', 'industry': 'Automobiles'}] count=None\n"
     ]
    }
   ],
   "source": [
    "for _, company in companies.iterrows():\n",
    "    companyUpsert_response = (\n",
    "        supabase.table(\"companies\")\n",
    "        .upsert(\n",
    "            {\n",
    "                \"name\": company[\"name\"], \n",
    "                \"isin\": company[\"isin\"], \n",
    "                \"country\": company[\"country\"],\n",
    "                \"industry\": company[\"industry\"],\n",
    "                \"sector\": industry_sector[industry_sector.industry == company[\"industry\"]] ['sector'].values[0],\n",
    "            }, \n",
    "            on_conflict=[\"name\"]\n",
    "        )\n",
    "        .execute()\n",
    "    )\n",
    "\n",
    "    print(companyUpsert_response)"
   ]
  },
  {
   "cell_type": "code",
   "execution_count": null,
   "metadata": {},
   "outputs": [],
   "source": []
  },
  {
   "cell_type": "code",
   "execution_count": 89,
   "metadata": {},
   "outputs": [],
   "source": [
    "reports_dir = \"/Users/victor/Library/CloudStorage/Dropbox/5 - Sustainability Reporting Navigator/1-outreach/2025-03 early csrd analysis/data/pdf/\"\n",
    "avlbl_reports = os.listdir(reports_dir)"
   ]
  },
  {
   "cell_type": "code",
   "execution_count": 86,
   "metadata": {},
   "outputs": [
    {
     "data": {
      "text/html": [
       "<div>\n",
       "<style scoped>\n",
       "    .dataframe tbody tr th:only-of-type {\n",
       "        vertical-align: middle;\n",
       "    }\n",
       "\n",
       "    .dataframe tbody tr th {\n",
       "        vertical-align: top;\n",
       "    }\n",
       "\n",
       "    .dataframe thead th {\n",
       "        text-align: right;\n",
       "    }\n",
       "</style>\n",
       "<table border=\"1\" class=\"dataframe\">\n",
       "  <thead>\n",
       "    <tr style=\"text-align: right;\">\n",
       "      <th></th>\n",
       "      <th>name</th>\n",
       "      <th>isin</th>\n",
       "      <th>country</th>\n",
       "      <th>industry</th>\n",
       "      <th>startPDF</th>\n",
       "      <th>endPDF</th>\n",
       "      <th>filename</th>\n",
       "      <th>isin_or_name</th>\n",
       "      <th>id</th>\n",
       "    </tr>\n",
       "  </thead>\n",
       "  <tbody>\n",
       "    <tr>\n",
       "      <th>0</th>\n",
       "      <td>Netcompany</td>\n",
       "      <td>DK0060952919</td>\n",
       "      <td>Denmark</td>\n",
       "      <td>Internet Media &amp; Services</td>\n",
       "      <td>62.0</td>\n",
       "      <td>154.0</td>\n",
       "      <td>DK0060952919_2024_AR.pdf</td>\n",
       "      <td>DK0060952919</td>\n",
       "      <td>84f555f7-0dfe-4287-9ebb-4a8510851960</td>\n",
       "    </tr>\n",
       "    <tr>\n",
       "      <th>1</th>\n",
       "      <td>Tryg</td>\n",
       "      <td>DK0060636678</td>\n",
       "      <td>Denmark</td>\n",
       "      <td>Insurance</td>\n",
       "      <td>53.0</td>\n",
       "      <td>131.0</td>\n",
       "      <td>DK0060636678_2024_AR.pdf</td>\n",
       "      <td>DK0060636678</td>\n",
       "      <td>dfd1ae0e-fdd2-402b-87b7-8269fc136bf1</td>\n",
       "    </tr>\n",
       "    <tr>\n",
       "      <th>2</th>\n",
       "      <td>DSV</td>\n",
       "      <td>DK0060079531</td>\n",
       "      <td>Denmark</td>\n",
       "      <td>Air Freight &amp; Logistics</td>\n",
       "      <td>42.0</td>\n",
       "      <td>84.0</td>\n",
       "      <td>DK0060079531_2024_AR.pdf</td>\n",
       "      <td>DK0060079531</td>\n",
       "      <td>2697bd05-bcc6-46c6-959f-b28c9f79601d</td>\n",
       "    </tr>\n",
       "    <tr>\n",
       "      <th>3</th>\n",
       "      <td>Lundbeck</td>\n",
       "      <td>DK0061804697</td>\n",
       "      <td>Denmark</td>\n",
       "      <td>Biotechnology &amp; Pharmaceuticals</td>\n",
       "      <td>59.0</td>\n",
       "      <td>144.0</td>\n",
       "      <td>DK0061804697_2024_AR.pdf</td>\n",
       "      <td>DK0061804697</td>\n",
       "      <td>c403ab7e-9ab8-4a2d-886f-32f65885cba2</td>\n",
       "    </tr>\n",
       "    <tr>\n",
       "      <th>4</th>\n",
       "      <td>Vestas</td>\n",
       "      <td>DK0061539921</td>\n",
       "      <td>Denmark</td>\n",
       "      <td>Wind Technology &amp; Project Developers</td>\n",
       "      <td>51.0</td>\n",
       "      <td>132.0</td>\n",
       "      <td>DK0061539921_2024_AR.pdf</td>\n",
       "      <td>DK0061539921</td>\n",
       "      <td>ef6facde-60b5-49d6-8b51-c500ec0632a0</td>\n",
       "    </tr>\n",
       "    <tr>\n",
       "      <th>...</th>\n",
       "      <td>...</td>\n",
       "      <td>...</td>\n",
       "      <td>...</td>\n",
       "      <td>...</td>\n",
       "      <td>...</td>\n",
       "      <td>...</td>\n",
       "      <td>...</td>\n",
       "      <td>...</td>\n",
       "      <td>...</td>\n",
       "    </tr>\n",
       "    <tr>\n",
       "      <th>172</th>\n",
       "      <td>RWE</td>\n",
       "      <td>DE0007037129</td>\n",
       "      <td>Germany</td>\n",
       "      <td>Electric Utilities &amp; Power Generators</td>\n",
       "      <td>74.0</td>\n",
       "      <td>186.0</td>\n",
       "      <td>DE0007037129_2024_AR.pdf</td>\n",
       "      <td>DE0007037129</td>\n",
       "      <td>e1202787-9274-424c-9ea6-a4ecfe8c3e3c</td>\n",
       "    </tr>\n",
       "    <tr>\n",
       "      <th>173</th>\n",
       "      <td>Triodos Bank</td>\n",
       "      <td>n.a.</td>\n",
       "      <td>Netherlands</td>\n",
       "      <td>Commercial Banks</td>\n",
       "      <td>167.0</td>\n",
       "      <td>327.0</td>\n",
       "      <td>Triodos Bank_2024_AR.pdf</td>\n",
       "      <td>Triodos Bank</td>\n",
       "      <td>59788d0c-4fed-41c5-808b-f7bd5ef4ed5e</td>\n",
       "    </tr>\n",
       "    <tr>\n",
       "      <th>174</th>\n",
       "      <td>AXA SA</td>\n",
       "      <td>FR0000120628</td>\n",
       "      <td>France</td>\n",
       "      <td>Insurance</td>\n",
       "      <td>129.0</td>\n",
       "      <td>271.0</td>\n",
       "      <td>FR0000120628_2024_AR.pdf</td>\n",
       "      <td>FR0000120628</td>\n",
       "      <td>c6f3a472-6fa9-4724-93fc-c5afc2c54c5f</td>\n",
       "    </tr>\n",
       "    <tr>\n",
       "      <th>175</th>\n",
       "      <td>Teleperformance</td>\n",
       "      <td>FR0000051807</td>\n",
       "      <td>France</td>\n",
       "      <td>Software &amp; IT Services</td>\n",
       "      <td>93.0</td>\n",
       "      <td>204.0</td>\n",
       "      <td>FR0000051807_2024_AR.pdf</td>\n",
       "      <td>FR0000051807</td>\n",
       "      <td>3b8c223c-c1c3-4e72-80c7-f40825e8b08f</td>\n",
       "    </tr>\n",
       "    <tr>\n",
       "      <th>176</th>\n",
       "      <td>Renault Group</td>\n",
       "      <td>FR0000131906</td>\n",
       "      <td>France</td>\n",
       "      <td>Automobiles</td>\n",
       "      <td>96.0</td>\n",
       "      <td>246.0</td>\n",
       "      <td>FR0000131906_2024_AR.pdf</td>\n",
       "      <td>FR0000131906</td>\n",
       "      <td>fb90d430-b529-4d81-8fab-0834a9f35d25</td>\n",
       "    </tr>\n",
       "  </tbody>\n",
       "</table>\n",
       "<p>177 rows × 9 columns</p>\n",
       "</div>"
      ],
      "text/plain": [
       "                name          isin      country  \\\n",
       "0         Netcompany  DK0060952919      Denmark   \n",
       "1               Tryg  DK0060636678      Denmark   \n",
       "2                DSV  DK0060079531      Denmark   \n",
       "3           Lundbeck  DK0061804697      Denmark   \n",
       "4             Vestas  DK0061539921      Denmark   \n",
       "..               ...           ...          ...   \n",
       "172              RWE  DE0007037129      Germany   \n",
       "173     Triodos Bank          n.a.  Netherlands   \n",
       "174           AXA SA  FR0000120628       France   \n",
       "175  Teleperformance  FR0000051807       France   \n",
       "176    Renault Group  FR0000131906       France   \n",
       "\n",
       "                                  industry  startPDF  endPDF  \\\n",
       "0                Internet Media & Services      62.0   154.0   \n",
       "1                                Insurance      53.0   131.0   \n",
       "2                  Air Freight & Logistics      42.0    84.0   \n",
       "3          Biotechnology & Pharmaceuticals      59.0   144.0   \n",
       "4     Wind Technology & Project Developers      51.0   132.0   \n",
       "..                                     ...       ...     ...   \n",
       "172  Electric Utilities & Power Generators      74.0   186.0   \n",
       "173                       Commercial Banks     167.0   327.0   \n",
       "174                              Insurance     129.0   271.0   \n",
       "175                 Software & IT Services      93.0   204.0   \n",
       "176                            Automobiles      96.0   246.0   \n",
       "\n",
       "                     filename  isin_or_name  \\\n",
       "0    DK0060952919_2024_AR.pdf  DK0060952919   \n",
       "1    DK0060636678_2024_AR.pdf  DK0060636678   \n",
       "2    DK0060079531_2024_AR.pdf  DK0060079531   \n",
       "3    DK0061804697_2024_AR.pdf  DK0061804697   \n",
       "4    DK0061539921_2024_AR.pdf  DK0061539921   \n",
       "..                        ...           ...   \n",
       "172  DE0007037129_2024_AR.pdf  DE0007037129   \n",
       "173  Triodos Bank_2024_AR.pdf  Triodos Bank   \n",
       "174  FR0000120628_2024_AR.pdf  FR0000120628   \n",
       "175  FR0000051807_2024_AR.pdf  FR0000051807   \n",
       "176  FR0000131906_2024_AR.pdf  FR0000131906   \n",
       "\n",
       "                                       id  \n",
       "0    84f555f7-0dfe-4287-9ebb-4a8510851960  \n",
       "1    dfd1ae0e-fdd2-402b-87b7-8269fc136bf1  \n",
       "2    2697bd05-bcc6-46c6-959f-b28c9f79601d  \n",
       "3    c403ab7e-9ab8-4a2d-886f-32f65885cba2  \n",
       "4    ef6facde-60b5-49d6-8b51-c500ec0632a0  \n",
       "..                                    ...  \n",
       "172  e1202787-9274-424c-9ea6-a4ecfe8c3e3c  \n",
       "173  59788d0c-4fed-41c5-808b-f7bd5ef4ed5e  \n",
       "174  c6f3a472-6fa9-4724-93fc-c5afc2c54c5f  \n",
       "175  3b8c223c-c1c3-4e72-80c7-f40825e8b08f  \n",
       "176  fb90d430-b529-4d81-8fab-0834a9f35d25  \n",
       "\n",
       "[177 rows x 9 columns]"
      ]
     },
     "execution_count": 86,
     "metadata": {},
     "output_type": "execute_result"
    }
   ],
   "source": [
    "# Create the hypothetical filename the company from the Google Sheet would have\n",
    "companies = (\n",
    "    companies\n",
    "    .assign(\n",
    "        isin_or_name = lambda x: [isin if isin != \"n.a.\" else name for name, isin in zip(x[\"name\"], x[\"isin\"])], \n",
    "        filename=lambda x: x[\"isin_or_name\"] + \"_2024_AR.pdf\"\n",
    "        )\n",
    "    # add ID from supabase\n",
    "    .merge(\n",
    "        pd.DataFrame(supabase.table(\"companies\").select(\"id, isin, name\").execute().data),\n",
    "        left_on=[\"name\", \"isin\"],\n",
    "        right_on=[\"name\", \"isin\"]\n",
    "    )\n",
    ")\n",
    "\n",
    "companies"
   ]
  },
  {
   "cell_type": "code",
   "execution_count": 112,
   "metadata": {},
   "outputs": [],
   "source": [
    "from tusclient import client"
   ]
  },
  {
   "cell_type": "code",
   "execution_count": 116,
   "metadata": {},
   "outputs": [],
   "source": [
    "def upload_file_to_supabase(\n",
    "    supabase_url:str, file_name: str, file: BufferedReader, access_token: str\n",
    "):\n",
    "    # create Tus client\n",
    "    my_client = client.TusClient(\n",
    "        f\"{supabase_url}/storage/v1/upload/resumable\",\n",
    "        headers={\"Authorization\": f\"Bearer {access_token}\", \"x-upsert\": \"true\"},\n",
    "    )\n",
    "    uploader = my_client.uploader(\n",
    "        file_stream=file,\n",
    "        chunk_size=(6 * 1024 * 1024),\n",
    "        metadata={\n",
    "            \"bucketName\": \"document-pdfs\",\n",
    "            \"objectName\": file_name,\n",
    "            \"contentType\": \"application/pdf\",\n",
    "            \"cacheControl\": \"3600\",\n",
    "        },\n",
    "    )\n",
    "    uploader.upload()"
   ]
  },
  {
   "cell_type": "code",
   "execution_count": 120,
   "metadata": {},
   "outputs": [
    {
     "name": "stderr",
     "output_type": "stream",
     "text": [
      "  1%|          | 1/177 [00:00<02:35,  1.13it/s]"
     ]
    },
    {
     "name": "stdout",
     "output_type": "stream",
     "text": [
      "0 Attempt to retrieve create file url with status 403\n"
     ]
    },
    {
     "name": "stderr",
     "output_type": "stream",
     "text": [
      "  1%|          | 2/177 [00:01<02:15,  1.29it/s]"
     ]
    },
    {
     "name": "stdout",
     "output_type": "stream",
     "text": [
      "1 Attempt to retrieve create file url with status 403\n"
     ]
    },
    {
     "name": "stderr",
     "output_type": "stream",
     "text": [
      "  2%|▏         | 3/177 [00:02<02:26,  1.18it/s]"
     ]
    },
    {
     "name": "stdout",
     "output_type": "stream",
     "text": [
      "2 Attempt to retrieve create file url with status 403\n"
     ]
    },
    {
     "name": "stderr",
     "output_type": "stream",
     "text": [
      "  2%|▏         | 4/177 [00:03<02:51,  1.01it/s]"
     ]
    },
    {
     "name": "stdout",
     "output_type": "stream",
     "text": [
      "3 Attempt to retrieve create file url with status 403\n"
     ]
    },
    {
     "name": "stderr",
     "output_type": "stream",
     "text": [
      "  3%|▎         | 5/177 [00:05<03:32,  1.23s/it]"
     ]
    },
    {
     "name": "stdout",
     "output_type": "stream",
     "text": [
      "4 Attempt to retrieve create file url with status 403\n"
     ]
    },
    {
     "name": "stderr",
     "output_type": "stream",
     "text": [
      "  3%|▎         | 6/177 [00:06<03:40,  1.29s/it]"
     ]
    },
    {
     "name": "stdout",
     "output_type": "stream",
     "text": [
      "5 Attempt to retrieve create file url with status 403\n"
     ]
    },
    {
     "name": "stderr",
     "output_type": "stream",
     "text": [
      "  4%|▍         | 7/177 [00:07<03:31,  1.24s/it]"
     ]
    },
    {
     "name": "stdout",
     "output_type": "stream",
     "text": [
      "6 Attempt to retrieve create file url with status 413\n"
     ]
    },
    {
     "name": "stderr",
     "output_type": "stream",
     "text": [
      " 12%|█▏        | 22/177 [04:01<26:35, 10.29s/it]"
     ]
    },
    {
     "name": "stdout",
     "output_type": "stream",
     "text": [
      "21 Attempt to retrieve create file url with status 413\n"
     ]
    },
    {
     "name": "stderr",
     "output_type": "stream",
     "text": [
      " 16%|█▋        | 29/177 [06:32<39:32, 16.03s/it]  "
     ]
    },
    {
     "name": "stdout",
     "output_type": "stream",
     "text": [
      "28 Attempt to retrieve create file url with status 413\n"
     ]
    },
    {
     "name": "stderr",
     "output_type": "stream",
     "text": [
      " 34%|███▍      | 61/177 [15:15<14:26,  7.47s/it]"
     ]
    },
    {
     "name": "stdout",
     "output_type": "stream",
     "text": [
      "60 Attempt to retrieve create file url with status 413\n"
     ]
    },
    {
     "name": "stderr",
     "output_type": "stream",
     "text": [
      " 38%|███▊      | 67/177 [17:31<45:59, 25.09s/it]"
     ]
    },
    {
     "name": "stdout",
     "output_type": "stream",
     "text": [
      "66 Communication with tus server failed with status 502\n"
     ]
    },
    {
     "name": "stderr",
     "output_type": "stream",
     "text": [
      " 49%|████▊     | 86/177 [23:20<23:31, 15.51s/it]"
     ]
    },
    {
     "name": "stdout",
     "output_type": "stream",
     "text": [
      "85 Attempt to retrieve create file url with status 413\n"
     ]
    },
    {
     "name": "stderr",
     "output_type": "stream",
     "text": [
      " 50%|█████     | 89/177 [24:07<20:40, 14.10s/it]"
     ]
    },
    {
     "name": "stdout",
     "output_type": "stream",
     "text": [
      "88 Failed to open file '/Users/victor/Library/CloudStorage/Dropbox/5 - Sustainability Reporting Navigator/1-outreach/2025-03 early csrd analysis/data/pdf/ES0132105018_2024_AR.pdf'.\n"
     ]
    },
    {
     "name": "stderr",
     "output_type": "stream",
     "text": [
      " 53%|█████▎    | 93/177 [25:26<19:18, 13.79s/it]"
     ]
    },
    {
     "name": "stdout",
     "output_type": "stream",
     "text": [
      "92 code=7: cannot find object in xref (2450 0 R)\n"
     ]
    },
    {
     "name": "stderr",
     "output_type": "stream",
     "text": [
      " 60%|██████    | 107/177 [29:25<15:27, 13.25s/it]"
     ]
    },
    {
     "name": "stdout",
     "output_type": "stream",
     "text": [
      "106 Failed to open file '/Users/victor/Library/CloudStorage/Dropbox/5 - Sustainability Reporting Navigator/1-outreach/2025-03 early csrd analysis/data/pdf/ES0178430E18_2024_AR.pdf'.\n"
     ]
    },
    {
     "name": "stderr",
     "output_type": "stream",
     "text": [
      " 71%|███████   | 125/177 [35:38<11:07, 12.84s/it]"
     ]
    },
    {
     "name": "stdout",
     "output_type": "stream",
     "text": [
      "124 Attempt to retrieve create file url with status 413\n"
     ]
    },
    {
     "name": "stderr",
     "output_type": "stream",
     "text": [
      " 71%|███████   | 126/177 [35:39<07:59,  9.39s/it]"
     ]
    },
    {
     "name": "stdout",
     "output_type": "stream",
     "text": [
      "125 Attempt to retrieve create file url with status 413\n"
     ]
    },
    {
     "name": "stderr",
     "output_type": "stream",
     "text": [
      " 73%|███████▎  | 130/177 [36:32<07:47,  9.96s/it]"
     ]
    },
    {
     "name": "stdout",
     "output_type": "stream",
     "text": [
      "129 Failed to open file '/Users/victor/Library/CloudStorage/Dropbox/5 - Sustainability Reporting Navigator/1-outreach/2025-03 early csrd analysis/data/pdf/DE000SHA0019_2024_AR.pdf'.\n"
     ]
    },
    {
     "name": "stderr",
     "output_type": "stream",
     "text": [
      " 77%|███████▋  | 137/177 [38:05<06:19,  9.49s/it]"
     ]
    },
    {
     "name": "stdout",
     "output_type": "stream",
     "text": [
      "136 Attempt to retrieve create file url with status 413\n"
     ]
    },
    {
     "name": "stderr",
     "output_type": "stream",
     "text": [
      " 79%|███████▉  | 140/177 [38:21<03:39,  5.94s/it]"
     ]
    },
    {
     "name": "stdout",
     "output_type": "stream",
     "text": [
      "139 code=7: cannot find object in xref (533 0 R)\n"
     ]
    },
    {
     "name": "stderr",
     "output_type": "stream",
     "text": [
      " 97%|█████████▋| 172/177 [47:22<01:05, 13.16s/it]"
     ]
    },
    {
     "name": "stdout",
     "output_type": "stream",
     "text": [
      "171 Failed to open file '/Users/victor/Library/CloudStorage/Dropbox/5 - Sustainability Reporting Navigator/1-outreach/2025-03 early csrd analysis/data/pdf/n.a_2024_AR.pdf'.\n"
     ]
    },
    {
     "name": "stderr",
     "output_type": "stream",
     "text": [
      " 98%|█████████▊| 173/177 [47:22<00:39,  9.99s/it]"
     ]
    },
    {
     "name": "stdout",
     "output_type": "stream",
     "text": [
      "172 Failed to open file '/Users/victor/Library/CloudStorage/Dropbox/5 - Sustainability Reporting Navigator/1-outreach/2025-03 early csrd analysis/data/pdf/DE0007037129_2024_AR.pdf'.\n"
     ]
    },
    {
     "name": "stderr",
     "output_type": "stream",
     "text": [
      "100%|██████████| 177/177 [48:42<00:00, 16.51s/it]\n"
     ]
    }
   ],
   "source": [
    "for _, company in tqdm(companies.iterrows(), total=len(companies)):\n",
    "    try:\n",
    "        if company[\"filename\"] in avlbl_reports:\n",
    "            documentUpsert_response = (\n",
    "                supabase.table(\"documents\")\n",
    "                .upsert(\n",
    "                    {\n",
    "                        \"company_id\": company[\"id\"],\n",
    "                        \"year\": 2024,\n",
    "                        \"type\": \"Annual Report\",\n",
    "                        \"pages\": f\"({int(company.startPDF)}, {int(company.endPDF)})\"\n",
    "                    },\n",
    "                    on_conflict=[\"company_id, year, type\"]\n",
    "                )\n",
    "                .execute()\n",
    "            )\n",
    "\n",
    "            document_id = documentUpsert_response.data[0].get(\"id\")\n",
    "\n",
    "            doc = pymupdf.open(reports_dir+company[\"filename\"])\n",
    "            doc.select(list(range(int(company.startPDF) - 1, min(int(company.endPDF), len(doc)))))\n",
    "            cropped_path = reports_dir.replace(\"data/pdf/\", \"data/pdf-cropped/\")+document_id+\".pdf\"\n",
    "            doc.save(cropped_path)\n",
    "\n",
    "            with open(cropped_path, \"rb\") as fs:\n",
    "                upload_file_to_supabase(\n",
    "                    supabase_url=supabase_url,\n",
    "                    file_name=document_id+\".pdf\",\n",
    "                    file=fs,\n",
    "                    access_token=auth_response.session.access_token,\n",
    "                )\n",
    "\n",
    "    except Exception as e:\n",
    "        print(company.name, e)"
   ]
  },
  {
   "cell_type": "code",
   "execution_count": null,
   "metadata": {},
   "outputs": [],
   "source": []
  },
  {
   "cell_type": "code",
   "execution_count": 125,
   "metadata": {},
   "outputs": [
    {
     "data": {
      "text/html": [
       "<div>\n",
       "<style scoped>\n",
       "    .dataframe tbody tr th:only-of-type {\n",
       "        vertical-align: middle;\n",
       "    }\n",
       "\n",
       "    .dataframe tbody tr th {\n",
       "        vertical-align: top;\n",
       "    }\n",
       "\n",
       "    .dataframe thead th {\n",
       "        text-align: right;\n",
       "    }\n",
       "</style>\n",
       "<table border=\"1\" class=\"dataframe\">\n",
       "  <thead>\n",
       "    <tr style=\"text-align: right;\">\n",
       "      <th></th>\n",
       "      <th>id</th>\n",
       "      <th>company_id</th>\n",
       "      <th>year</th>\n",
       "      <th>created_at</th>\n",
       "      <th>type</th>\n",
       "      <th>pages</th>\n",
       "    </tr>\n",
       "  </thead>\n",
       "  <tbody>\n",
       "    <tr>\n",
       "      <th>0</th>\n",
       "      <td>efdcfa4d-d1be-4cee-99bc-edc44bd65312</td>\n",
       "      <td>84f555f7-0dfe-4287-9ebb-4a8510851960</td>\n",
       "      <td>2024</td>\n",
       "      <td>2025-03-20T22:39:06.628541+00:00</td>\n",
       "      <td>Annual Report</td>\n",
       "      <td>(62, 154)</td>\n",
       "    </tr>\n",
       "    <tr>\n",
       "      <th>1</th>\n",
       "      <td>aa6b5063-5095-46b9-b136-820da4ececa1</td>\n",
       "      <td>dfd1ae0e-fdd2-402b-87b7-8269fc136bf1</td>\n",
       "      <td>2024</td>\n",
       "      <td>2025-03-20T22:42:31.849655+00:00</td>\n",
       "      <td>Annual Report</td>\n",
       "      <td>(53, 131)</td>\n",
       "    </tr>\n",
       "    <tr>\n",
       "      <th>2</th>\n",
       "      <td>476d5914-34e7-4aa9-807c-ce9e2d5b5550</td>\n",
       "      <td>2697bd05-bcc6-46c6-959f-b28c9f79601d</td>\n",
       "      <td>2024</td>\n",
       "      <td>2025-03-20T22:42:53.343695+00:00</td>\n",
       "      <td>Annual Report</td>\n",
       "      <td>(42, 84)</td>\n",
       "    </tr>\n",
       "    <tr>\n",
       "      <th>3</th>\n",
       "      <td>fc84bde4-9bb0-4346-b4c0-ba2f4f62bf2c</td>\n",
       "      <td>c403ab7e-9ab8-4a2d-886f-32f65885cba2</td>\n",
       "      <td>2024</td>\n",
       "      <td>2025-03-20T22:44:25.645413+00:00</td>\n",
       "      <td>Annual Report</td>\n",
       "      <td>(59, 144)</td>\n",
       "    </tr>\n",
       "    <tr>\n",
       "      <th>4</th>\n",
       "      <td>ef045bd2-d948-4f96-a125-9eb79e7632ac</td>\n",
       "      <td>ef6facde-60b5-49d6-8b51-c500ec0632a0</td>\n",
       "      <td>2024</td>\n",
       "      <td>2025-03-20T22:44:34.114273+00:00</td>\n",
       "      <td>Annual Report</td>\n",
       "      <td>(51, 132)</td>\n",
       "    </tr>\n",
       "    <tr>\n",
       "      <th>...</th>\n",
       "      <td>...</td>\n",
       "      <td>...</td>\n",
       "      <td>...</td>\n",
       "      <td>...</td>\n",
       "      <td>...</td>\n",
       "      <td>...</td>\n",
       "    </tr>\n",
       "    <tr>\n",
       "      <th>170</th>\n",
       "      <td>01231b03-e9fb-424c-9a18-2701e247adb0</td>\n",
       "      <td>504f3d59-cbb9-4c87-80d4-cbd905f407bb</td>\n",
       "      <td>2024</td>\n",
       "      <td>2025-03-20T23:38:25.414525+00:00</td>\n",
       "      <td>Annual Report</td>\n",
       "      <td>(374, 598)</td>\n",
       "    </tr>\n",
       "    <tr>\n",
       "      <th>171</th>\n",
       "      <td>d85d9632-d78a-4a93-96f6-260141c13f39</td>\n",
       "      <td>e1202787-9274-424c-9ea6-a4ecfe8c3e3c</td>\n",
       "      <td>2024</td>\n",
       "      <td>2025-03-20T23:38:25.818417+00:00</td>\n",
       "      <td>Annual Report</td>\n",
       "      <td>(74, 186)</td>\n",
       "    </tr>\n",
       "    <tr>\n",
       "      <th>172</th>\n",
       "      <td>b0ab655e-83e8-418f-b7e7-bab737a7e5ba</td>\n",
       "      <td>59788d0c-4fed-41c5-808b-f7bd5ef4ed5e</td>\n",
       "      <td>2024</td>\n",
       "      <td>2025-03-20T23:38:26.184884+00:00</td>\n",
       "      <td>Annual Report</td>\n",
       "      <td>(167, 327)</td>\n",
       "    </tr>\n",
       "    <tr>\n",
       "      <th>173</th>\n",
       "      <td>0346dbfe-6ca9-4342-85b1-a11078ca4435</td>\n",
       "      <td>c6f3a472-6fa9-4724-93fc-c5afc2c54c5f</td>\n",
       "      <td>2024</td>\n",
       "      <td>2025-03-20T23:39:17.060021+00:00</td>\n",
       "      <td>Annual Report</td>\n",
       "      <td>(129, 271)</td>\n",
       "    </tr>\n",
       "    <tr>\n",
       "      <th>174</th>\n",
       "      <td>b9ee3ac2-e922-4f3f-92d0-8b54db31b7c7</td>\n",
       "      <td>3b8c223c-c1c3-4e72-80c7-f40825e8b08f</td>\n",
       "      <td>2024</td>\n",
       "      <td>2025-03-20T23:39:31.912039+00:00</td>\n",
       "      <td>Annual Report</td>\n",
       "      <td>(93, 204)</td>\n",
       "    </tr>\n",
       "  </tbody>\n",
       "</table>\n",
       "<p>175 rows × 6 columns</p>\n",
       "</div>"
      ],
      "text/plain": [
       "                                       id  \\\n",
       "0    efdcfa4d-d1be-4cee-99bc-edc44bd65312   \n",
       "1    aa6b5063-5095-46b9-b136-820da4ececa1   \n",
       "2    476d5914-34e7-4aa9-807c-ce9e2d5b5550   \n",
       "3    fc84bde4-9bb0-4346-b4c0-ba2f4f62bf2c   \n",
       "4    ef045bd2-d948-4f96-a125-9eb79e7632ac   \n",
       "..                                    ...   \n",
       "170  01231b03-e9fb-424c-9a18-2701e247adb0   \n",
       "171  d85d9632-d78a-4a93-96f6-260141c13f39   \n",
       "172  b0ab655e-83e8-418f-b7e7-bab737a7e5ba   \n",
       "173  0346dbfe-6ca9-4342-85b1-a11078ca4435   \n",
       "174  b9ee3ac2-e922-4f3f-92d0-8b54db31b7c7   \n",
       "\n",
       "                               company_id  year  \\\n",
       "0    84f555f7-0dfe-4287-9ebb-4a8510851960  2024   \n",
       "1    dfd1ae0e-fdd2-402b-87b7-8269fc136bf1  2024   \n",
       "2    2697bd05-bcc6-46c6-959f-b28c9f79601d  2024   \n",
       "3    c403ab7e-9ab8-4a2d-886f-32f65885cba2  2024   \n",
       "4    ef6facde-60b5-49d6-8b51-c500ec0632a0  2024   \n",
       "..                                    ...   ...   \n",
       "170  504f3d59-cbb9-4c87-80d4-cbd905f407bb  2024   \n",
       "171  e1202787-9274-424c-9ea6-a4ecfe8c3e3c  2024   \n",
       "172  59788d0c-4fed-41c5-808b-f7bd5ef4ed5e  2024   \n",
       "173  c6f3a472-6fa9-4724-93fc-c5afc2c54c5f  2024   \n",
       "174  3b8c223c-c1c3-4e72-80c7-f40825e8b08f  2024   \n",
       "\n",
       "                           created_at           type       pages  \n",
       "0    2025-03-20T22:39:06.628541+00:00  Annual Report   (62, 154)  \n",
       "1    2025-03-20T22:42:31.849655+00:00  Annual Report   (53, 131)  \n",
       "2    2025-03-20T22:42:53.343695+00:00  Annual Report    (42, 84)  \n",
       "3    2025-03-20T22:44:25.645413+00:00  Annual Report   (59, 144)  \n",
       "4    2025-03-20T22:44:34.114273+00:00  Annual Report   (51, 132)  \n",
       "..                                ...            ...         ...  \n",
       "170  2025-03-20T23:38:25.414525+00:00  Annual Report  (374, 598)  \n",
       "171  2025-03-20T23:38:25.818417+00:00  Annual Report   (74, 186)  \n",
       "172  2025-03-20T23:38:26.184884+00:00  Annual Report  (167, 327)  \n",
       "173  2025-03-20T23:39:17.060021+00:00  Annual Report  (129, 271)  \n",
       "174  2025-03-20T23:39:31.912039+00:00  Annual Report   (93, 204)  \n",
       "\n",
       "[175 rows x 6 columns]"
      ]
     },
     "execution_count": 125,
     "metadata": {},
     "output_type": "execute_result"
    }
   ],
   "source": [
    "documents = pd.DataFrame(supabase.table(\"documents\").select(\"*\").execute().data)\n",
    "documents"
   ]
  },
  {
   "cell_type": "code",
   "execution_count": 130,
   "metadata": {},
   "outputs": [],
   "source": [
    "companies = (\n",
    "    companies\n",
    "    .rename(\n",
    "        columns={'id': 'company_id'}\n",
    "    )\n",
    "    .merge(\n",
    "        (\n",
    "            documents\n",
    "            .loc[:, ['id', 'company_id']]\n",
    "            .rename(\n",
    "                columns={'id': 'document_id'}\n",
    "            )\n",
    "        ), \n",
    "        on='company_id'\n",
    "    )\n",
    ")"
   ]
  },
  {
   "cell_type": "code",
   "execution_count": 137,
   "metadata": {},
   "outputs": [
    {
     "name": "stderr",
     "output_type": "stream",
     "text": [
      "  4%|▍         | 7/175 [06:20<2:32:57, 54.63s/it]"
     ]
    },
    {
     "name": "stdout",
     "output_type": "stream",
     "text": [
      "Pandora API error occurred: Status 400\n",
      "{\"object\":\"error\",\"message\":\"File https://mistralaifilesapiprodswe.blob.core.windows.net/fine-tune/2bc5c3f8-3b5d-4f02-a4bb-e694f88d04e is too large. Maximum allowed size is 52.4 MB bytes.\",\"type\":\"invalid_file\",\"param\":null,\"code\":\"1901\"}\n"
     ]
    },
    {
     "name": "stderr",
     "output_type": "stream",
     "text": [
      "  8%|▊         | 14/175 [14:13<2:57:46, 66.25s/it]"
     ]
    },
    {
     "name": "stdout",
     "output_type": "stream",
     "text": [
      "Ørsted API error occurred: Status 400\n",
      "{\"object\":\"error\",\"message\":\"Input is too long. Max length is 8192 got 12988\",\"type\":\"invalid_request_error\",\"param\":null,\"code\":null}\n"
     ]
    },
    {
     "name": "stderr",
     "output_type": "stream",
     "text": [
      " 10%|▉         | 17/175 [17:19<2:46:01, 63.05s/it]"
     ]
    },
    {
     "name": "stdout",
     "output_type": "stream",
     "text": [
      "Carlsberg API error occurred: Status 400\n",
      "{\"object\":\"error\",\"message\":\"Input is too long. Max length is 8192 got 14189\",\"type\":\"invalid_request_error\",\"param\":null,\"code\":null}\n"
     ]
    },
    {
     "name": "stderr",
     "output_type": "stream",
     "text": [
      " 13%|█▎        | 22/175 [23:52<3:30:54, 82.71s/it]"
     ]
    },
    {
     "name": "stdout",
     "output_type": "stream",
     "text": [
      "Barco API error occurred: Status 400\n",
      "{\"object\":\"error\",\"message\":\"File https://mistralaifilesapiprodswe.blob.core.windows.net/fine-tune/2bc5c3f8-3b5d-4f02-a4bb-e694f88d04e is too large. Maximum allowed size is 52.4 MB bytes.\",\"type\":\"invalid_file\",\"param\":null,\"code\":\"1901\"}\n"
     ]
    },
    {
     "name": "stderr",
     "output_type": "stream",
     "text": [
      " 17%|█▋        | 29/175 [31:37<2:38:36, 65.18s/it]"
     ]
    },
    {
     "name": "stdout",
     "output_type": "stream",
     "text": [
      "Alfen API error occurred: Status 400\n",
      "{\"object\":\"error\",\"message\":\"File https://mistralaifilesapiprodswe.blob.core.windows.net/fine-tune/2bc5c3f8-3b5d-4f02-a4bb-e694f88d04e is too large. Maximum allowed size is 52.4 MB bytes.\",\"type\":\"invalid_file\",\"param\":null,\"code\":\"1901\"}\n"
     ]
    },
    {
     "name": "stderr",
     "output_type": "stream",
     "text": [
      " 25%|██▍       | 43/175 [56:11<2:59:38, 81.66s/it] "
     ]
    },
    {
     "name": "stdout",
     "output_type": "stream",
     "text": [
      "Nilfisk API error occurred: Status 400\n",
      "{\"object\":\"error\",\"message\":\"Input is too long. Max length is 8192 got 11258\",\"type\":\"invalid_request_error\",\"param\":null,\"code\":null}\n"
     ]
    },
    {
     "name": "stderr",
     "output_type": "stream",
     "text": [
      " 30%|██▉       | 52/175 [1:08:47<2:32:17, 74.29s/it] "
     ]
    },
    {
     "name": "stdout",
     "output_type": "stream",
     "text": [
      "Kemira API error occurred: Status 400\n",
      "{\"object\":\"error\",\"message\":\"Input is too long. Max length is 8192 got 15592\",\"type\":\"invalid_request_error\",\"param\":null,\"code\":null}\n"
     ]
    },
    {
     "name": "stderr",
     "output_type": "stream",
     "text": [
      " 32%|███▏      | 56/175 [1:14:44<2:36:45, 79.04s/it]"
     ]
    },
    {
     "name": "stdout",
     "output_type": "stream",
     "text": [
      "Philips API error occurred: Status 400\n",
      "{\"object\":\"error\",\"message\":\"Input is too long. Max length is 8192 got 14684\",\"type\":\"invalid_request_error\",\"param\":null,\"code\":null}\n"
     ]
    },
    {
     "name": "stderr",
     "output_type": "stream",
     "text": [
      " 35%|███▍      | 61/175 [1:21:23<2:10:48, 68.85s/it]"
     ]
    },
    {
     "name": "stdout",
     "output_type": "stream",
     "text": [
      "Covestro API error occurred: Status 400\n",
      "{\"object\":\"error\",\"message\":\"File https://mistralaifilesapiprodswe.blob.core.windows.net/fine-tune/2bc5c3f8-3b5d-4f02-a4bb-e694f88d04e is too large. Maximum allowed size is 52.4 MB bytes.\",\"type\":\"invalid_file\",\"param\":null,\"code\":\"1901\"}\n"
     ]
    },
    {
     "name": "stderr",
     "output_type": "stream",
     "text": [
      " 45%|████▍     | 78/175 [1:52:39<2:28:34, 91.90s/it] "
     ]
    },
    {
     "name": "stdout",
     "output_type": "stream",
     "text": [
      "Kesko API error occurred: Status 400\n",
      "{\"object\":\"error\",\"message\":\"Input is too long. Max length is 8192 got 14103\",\"type\":\"invalid_request_error\",\"param\":null,\"code\":null}\n"
     ]
    },
    {
     "name": "stderr",
     "output_type": "stream",
     "text": [
      " 45%|████▌     | 79/175 [1:53:22<2:03:26, 77.15s/it]"
     ]
    },
    {
     "name": "stdout",
     "output_type": "stream",
     "text": [
      "Konecranes API error occurred: Status 400\n",
      "{\"object\":\"error\",\"message\":\"Input is too long. Max length is 8192 got 14070\",\"type\":\"invalid_request_error\",\"param\":null,\"code\":null}\n"
     ]
    },
    {
     "name": "stderr",
     "output_type": "stream",
     "text": [
      " 49%|████▉     | 86/175 [2:05:22<2:20:40, 94.84s/it] "
     ]
    },
    {
     "name": "stdout",
     "output_type": "stream",
     "text": [
      "European Energy API error occurred: Status 400\n",
      "{\"object\":\"error\",\"message\":\"File https://mistralaifilesapiprodswe.blob.core.windows.net/fine-tune/2bc5c3f8-3b5d-4f02-a4bb-e694f88d04e is too large. Maximum allowed size is 52.4 MB bytes.\",\"type\":\"invalid_file\",\"param\":null,\"code\":\"1901\"}\n"
     ]
    },
    {
     "name": "stderr",
     "output_type": "stream",
     "text": [
      " 53%|█████▎    | 92/175 [2:14:47<2:07:27, 92.14s/it] "
     ]
    },
    {
     "name": "stdout",
     "output_type": "stream",
     "text": [
      "AB InBev API error occurred: Status 400\n",
      "{\"object\":\"error\",\"message\":\"Input is too long. Max length is 8192 got 14992\",\"type\":\"invalid_request_error\",\"param\":null,\"code\":null}\n"
     ]
    },
    {
     "name": "stderr",
     "output_type": "stream",
     "text": [
      " 53%|█████▎    | 93/175 [2:14:47<1:31:45, 67.14s/it]"
     ]
    },
    {
     "name": "stdout",
     "output_type": "stream",
     "text": [
      "Amadeus IT Group API error occurred: Status 422\n",
      "{\"detail\": \"Invalid file format.\", \"message\": \"Received file with mimetype application/x-empty, only application/pdf, image/.*, application/vnd.openxmlformats-officedocument.wordprocessingml.document, application/vnd.openxmlformats-officedocument.presentationml.presentation are currently supported\"}\n"
     ]
    },
    {
     "name": "stderr",
     "output_type": "stream",
     "text": [
      " 62%|██████▏   | 109/175 [2:38:02<1:20:45, 73.42s/it] "
     ]
    },
    {
     "name": "stdout",
     "output_type": "stream",
     "text": [
      "UPM API error occurred: Status 400\n",
      "{\"object\":\"error\",\"message\":\"Input is too long. Max length is 8192 got 15623\",\"type\":\"invalid_request_error\",\"param\":null,\"code\":null}\n"
     ]
    },
    {
     "name": "stderr",
     "output_type": "stream",
     "text": [
      " 71%|███████▏  | 125/175 [3:01:26<53:38, 64.37s/it]   "
     ]
    },
    {
     "name": "stdout",
     "output_type": "stream",
     "text": [
      "Zalando SE API error occurred: Status 400\n",
      "{\"object\":\"error\",\"message\":\"File https://mistralaifilesapiprodswe.blob.core.windows.net/fine-tune/2bc5c3f8-3b5d-4f02-a4bb-e694f88d04e is too large. Maximum allowed size is 52.4 MB bytes.\",\"type\":\"invalid_file\",\"param\":null,\"code\":\"1901\"}\n"
     ]
    },
    {
     "name": "stderr",
     "output_type": "stream",
     "text": [
      " 72%|███████▏  | 126/175 [3:02:02<45:37, 55.86s/it]"
     ]
    },
    {
     "name": "stdout",
     "output_type": "stream",
     "text": [
      "Adyen B.V. Parts Sociales API error occurred: Status 400\n",
      "{\"object\":\"error\",\"message\":\"File https://mistralaifilesapiprodswe.blob.core.windows.net/fine-tune/2bc5c3f8-3b5d-4f02-a4bb-e694f88d04e is too large. Maximum allowed size is 52.4 MB bytes.\",\"type\":\"invalid_file\",\"param\":null,\"code\":\"1901\"}\n"
     ]
    },
    {
     "name": "stderr",
     "output_type": "stream",
     "text": [
      " 73%|███████▎  | 127/175 [3:02:42<40:45, 50.94s/it]"
     ]
    },
    {
     "name": "stdout",
     "output_type": "stream",
     "text": [
      "Porsche API error occurred: Status 400\n",
      "{\"object\":\"error\",\"message\":\"Input is too long. Max length is 8192 got 14166\",\"type\":\"invalid_request_error\",\"param\":null,\"code\":null}\n"
     ]
    },
    {
     "name": "stderr",
     "output_type": "stream",
     "text": [
      " 77%|███████▋  | 135/175 [3:12:27<44:19, 66.50s/it]  "
     ]
    },
    {
     "name": "stdout",
     "output_type": "stream",
     "text": [
      "Metsä Group API error occurred: Status 400\n",
      "{\"object\":\"error\",\"message\":\"Input is too long. Max length is 8192 got 14127\",\"type\":\"invalid_request_error\",\"param\":null,\"code\":null}\n"
     ]
    },
    {
     "name": "stderr",
     "output_type": "stream",
     "text": [
      " 78%|███████▊  | 137/175 [3:14:26<38:14, 60.37s/it]"
     ]
    },
    {
     "name": "stdout",
     "output_type": "stream",
     "text": [
      "Deutsche Bank API error occurred: Status 400\n",
      "{\"object\":\"error\",\"message\":\"File https://mistralaifilesapiprodswe.blob.core.windows.net/fine-tune/2bc5c3f8-3b5d-4f02-a4bb-e694f88d04e is too large. Maximum allowed size is 52.4 MB bytes.\",\"type\":\"invalid_file\",\"param\":null,\"code\":\"1901\"}\n"
     ]
    },
    {
     "name": "stderr",
     "output_type": "stream",
     "text": [
      " 80%|████████  | 140/175 [3:17:08<29:36, 50.75s/it]"
     ]
    },
    {
     "name": "stdout",
     "output_type": "stream",
     "text": [
      "EssilorLuxottica API error occurred: Status 422\n",
      "{\"detail\": \"Invalid file format.\", \"message\": \"Received file with mimetype application/x-empty, only application/pdf, image/.*, application/vnd.openxmlformats-officedocument.wordprocessingml.document, application/vnd.openxmlformats-officedocument.presentationml.presentation are currently supported\"}\n"
     ]
    },
    {
     "name": "stderr",
     "output_type": "stream",
     "text": [
      " 85%|████████▌ | 149/175 [3:27:14<28:39, 66.14s/it]"
     ]
    },
    {
     "name": "stdout",
     "output_type": "stream",
     "text": [
      "Sopra Steria API error occurred: Status 400\n",
      "{\"object\":\"error\",\"message\":\"Input is too long. Max length is 8192 got 14194\",\"type\":\"invalid_request_error\",\"param\":null,\"code\":null}\n"
     ]
    },
    {
     "name": "stderr",
     "output_type": "stream",
     "text": [
      " 86%|████████▋ | 151/175 [3:29:27<25:52, 64.68s/it]"
     ]
    },
    {
     "name": "stdout",
     "output_type": "stream",
     "text": [
      "Nordex SE API error occurred: Status 400\n",
      "{\"object\":\"error\",\"message\":\"Input is too long. Max length is 8192 got 13395\",\"type\":\"invalid_request_error\",\"param\":null,\"code\":null}\n"
     ]
    },
    {
     "name": "stderr",
     "output_type": "stream",
     "text": [
      " 90%|████████▉ | 157/175 [3:36:56<19:02, 63.48s/it]"
     ]
    },
    {
     "name": "stdout",
     "output_type": "stream",
     "text": [
      "Coca Cola HBC API error occurred: Status 400\n",
      "{\"object\":\"error\",\"message\":\"Input is too long. Max length is 8192 got 13463\",\"type\":\"invalid_request_error\",\"param\":null,\"code\":null}\n"
     ]
    },
    {
     "name": "stderr",
     "output_type": "stream",
     "text": [
      " 93%|█████████▎| 162/175 [3:45:04<16:26, 75.88s/it] "
     ]
    },
    {
     "name": "stdout",
     "output_type": "stream",
     "text": [
      "Sitowise Group Plc API error occurred: Status 400\n",
      "{\"object\":\"error\",\"message\":\"Input is too long. Max length is 8192 got 14015\",\"type\":\"invalid_request_error\",\"param\":null,\"code\":null}\n"
     ]
    },
    {
     "name": "stderr",
     "output_type": "stream",
     "text": [
      " 96%|█████████▌| 168/175 [3:53:15<09:33, 81.95s/it]"
     ]
    },
    {
     "name": "stdout",
     "output_type": "stream",
     "text": [
      "NWB Bank API error occurred: Status 400\n",
      "{\"object\":\"error\",\"message\":\"Input is too long. Max length is 8192 got 8877\",\"type\":\"invalid_request_error\",\"param\":null,\"code\":null}\n"
     ]
    },
    {
     "name": "stderr",
     "output_type": "stream",
     "text": [
      "100%|██████████| 175/175 [4:03:50<00:00, 83.60s/it] \n"
     ]
    }
   ],
   "source": [
    "# Use Mistral OCR to read text and embeddings and upload them\n",
    "cropped_dir = \"/Users/victor/Library/CloudStorage/Dropbox/5 - Sustainability Reporting Navigator/1-outreach/2025-03 early csrd analysis/data/pdf-cropped/\"\n",
    "for _, company in tqdm(companies.iterrows(), total=len(companies)):\n",
    "    if company[\"document_id\"] in [x.replace(\".pdf\", \"\") for x in os.listdir(cropped_dir)]:\n",
    "        try:\n",
    "            cropped_path = cropped_dir + company['document_id'] + \".pdf\"\n",
    "\n",
    "            with open(cropped_path, \"rb\") as f:\n",
    "                uploaded_pdf = client.files.upload(\n",
    "                    file={\n",
    "                        \"file_name\": cropped_path,\n",
    "                        \"content\": f,\n",
    "                    },\n",
    "                    purpose=\"ocr\"\n",
    "                )\n",
    "            \n",
    "            signed_url = client.files.get_signed_url(file_id=uploaded_pdf.id)\n",
    "\n",
    "            ocr_response = client.ocr.process(\n",
    "                model=\"mistral-ocr-latest\",\n",
    "                document={\n",
    "                    \"type\": \"document_url\",\n",
    "                    \"document_url\": signed_url.url,\n",
    "                }\n",
    "            )\n",
    "\n",
    "            for n, page in enumerate(ocr_response.pages):\n",
    "                embeddings_batch_response = client.embeddings.create(\n",
    "                    model=\"mistral-embed\",\n",
    "                    inputs=page.markdown,\n",
    "                )\n",
    "\n",
    "                pageInsert_response = (\n",
    "                    supabase.table(\"pages\")\n",
    "                    .upsert(\n",
    "                        {\n",
    "                            \"document_id\": company[\"document_id\"],\n",
    "                            \"page\": int(company.startPDF) + n,\n",
    "                            \"content\": page.markdown,\n",
    "                            \"embedding\": embeddings_batch_response.data[0].embedding\n",
    "                        }\n",
    "                    )\n",
    "                    .execute()\n",
    "                )\n",
    "\n",
    "        except Exception as e:\n",
    "            print(company[\"name\"], e)"
   ]
  },
  {
   "cell_type": "code",
   "execution_count": null,
   "metadata": {},
   "outputs": [],
   "source": []
  }
 ],
 "metadata": {
  "kernelspec": {
   "display_name": "Python 3",
   "language": "python",
   "name": "python3"
  },
  "language_info": {
   "codemirror_mode": {
    "name": "ipython",
    "version": 3
   },
   "file_extension": ".py",
   "mimetype": "text/x-python",
   "name": "python",
   "nbconvert_exporter": "python",
   "pygments_lexer": "ipython3",
   "version": "3.12.7"
  }
 },
 "nbformat": 4,
 "nbformat_minor": 2
}
